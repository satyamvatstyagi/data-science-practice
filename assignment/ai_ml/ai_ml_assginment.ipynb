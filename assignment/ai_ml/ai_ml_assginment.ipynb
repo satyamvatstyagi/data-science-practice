{
 "cells": [
  {
   "cell_type": "markdown",
   "metadata": {},
   "source": [
    "### Setup"
   ]
  },
  {
   "cell_type": "code",
   "execution_count": 25,
   "metadata": {},
   "outputs": [
    {
     "name": "stdout",
     "output_type": "stream",
     "text": [
      "Requirement already satisfied: openai in /Users/satyamvats/Documents/ioco/poc/python/data-science-practice/.venv/lib/python3.12/site-packages (1.35.7)\n",
      "Requirement already satisfied: anyio<5,>=3.5.0 in /Users/satyamvats/Documents/ioco/poc/python/data-science-practice/.venv/lib/python3.12/site-packages (from openai) (4.4.0)\n",
      "Requirement already satisfied: distro<2,>=1.7.0 in /Users/satyamvats/Documents/ioco/poc/python/data-science-practice/.venv/lib/python3.12/site-packages (from openai) (1.9.0)\n",
      "Requirement already satisfied: httpx<1,>=0.23.0 in /Users/satyamvats/Documents/ioco/poc/python/data-science-practice/.venv/lib/python3.12/site-packages (from openai) (0.27.0)\n",
      "Requirement already satisfied: pydantic<3,>=1.9.0 in /Users/satyamvats/Documents/ioco/poc/python/data-science-practice/.venv/lib/python3.12/site-packages (from openai) (2.7.4)\n",
      "Requirement already satisfied: sniffio in /Users/satyamvats/Documents/ioco/poc/python/data-science-practice/.venv/lib/python3.12/site-packages (from openai) (1.3.1)\n",
      "Requirement already satisfied: tqdm>4 in /Users/satyamvats/Documents/ioco/poc/python/data-science-practice/.venv/lib/python3.12/site-packages (from openai) (4.66.4)\n",
      "Requirement already satisfied: typing-extensions<5,>=4.7 in /Users/satyamvats/Documents/ioco/poc/python/data-science-practice/.venv/lib/python3.12/site-packages (from openai) (4.12.2)\n",
      "Requirement already satisfied: idna>=2.8 in /Users/satyamvats/Documents/ioco/poc/python/data-science-practice/.venv/lib/python3.12/site-packages (from anyio<5,>=3.5.0->openai) (3.7)\n",
      "Requirement already satisfied: certifi in /Users/satyamvats/Documents/ioco/poc/python/data-science-practice/.venv/lib/python3.12/site-packages (from httpx<1,>=0.23.0->openai) (2024.6.2)\n",
      "Requirement already satisfied: httpcore==1.* in /Users/satyamvats/Documents/ioco/poc/python/data-science-practice/.venv/lib/python3.12/site-packages (from httpx<1,>=0.23.0->openai) (1.0.5)\n",
      "Requirement already satisfied: h11<0.15,>=0.13 in /Users/satyamvats/Documents/ioco/poc/python/data-science-practice/.venv/lib/python3.12/site-packages (from httpcore==1.*->httpx<1,>=0.23.0->openai) (0.14.0)\n",
      "Requirement already satisfied: annotated-types>=0.4.0 in /Users/satyamvats/Documents/ioco/poc/python/data-science-practice/.venv/lib/python3.12/site-packages (from pydantic<3,>=1.9.0->openai) (0.7.0)\n",
      "Requirement already satisfied: pydantic-core==2.18.4 in /Users/satyamvats/Documents/ioco/poc/python/data-science-practice/.venv/lib/python3.12/site-packages (from pydantic<3,>=1.9.0->openai) (2.18.4)\n",
      "Note: you may need to restart the kernel to use updated packages.\n",
      "Requirement already satisfied: langchain in /Users/satyamvats/Documents/ioco/poc/python/data-science-practice/.venv/lib/python3.12/site-packages (0.2.8)\n",
      "Requirement already satisfied: PyYAML>=5.3 in /Users/satyamvats/Documents/ioco/poc/python/data-science-practice/.venv/lib/python3.12/site-packages (from langchain) (6.0.1)\n",
      "Requirement already satisfied: SQLAlchemy<3,>=1.4 in /Users/satyamvats/Documents/ioco/poc/python/data-science-practice/.venv/lib/python3.12/site-packages (from langchain) (2.0.31)\n",
      "Requirement already satisfied: aiohttp<4.0.0,>=3.8.3 in /Users/satyamvats/Documents/ioco/poc/python/data-science-practice/.venv/lib/python3.12/site-packages (from langchain) (3.9.5)\n",
      "Requirement already satisfied: langchain-core<0.3.0,>=0.2.19 in /Users/satyamvats/Documents/ioco/poc/python/data-science-practice/.venv/lib/python3.12/site-packages (from langchain) (0.2.19)\n",
      "Requirement already satisfied: langchain-text-splitters<0.3.0,>=0.2.0 in /Users/satyamvats/Documents/ioco/poc/python/data-science-practice/.venv/lib/python3.12/site-packages (from langchain) (0.2.2)\n",
      "Requirement already satisfied: langsmith<0.2.0,>=0.1.17 in /Users/satyamvats/Documents/ioco/poc/python/data-science-practice/.venv/lib/python3.12/site-packages (from langchain) (0.1.82)\n",
      "Requirement already satisfied: numpy<2.0.0,>=1.26.0 in /Users/satyamvats/Documents/ioco/poc/python/data-science-practice/.venv/lib/python3.12/site-packages (from langchain) (1.26.4)\n",
      "Requirement already satisfied: pydantic<3,>=1 in /Users/satyamvats/Documents/ioco/poc/python/data-science-practice/.venv/lib/python3.12/site-packages (from langchain) (2.7.4)\n",
      "Requirement already satisfied: requests<3,>=2 in /Users/satyamvats/Documents/ioco/poc/python/data-science-practice/.venv/lib/python3.12/site-packages (from langchain) (2.32.3)\n",
      "Requirement already satisfied: tenacity!=8.4.0,<9.0.0,>=8.1.0 in /Users/satyamvats/Documents/ioco/poc/python/data-science-practice/.venv/lib/python3.12/site-packages (from langchain) (8.4.2)\n",
      "Requirement already satisfied: aiosignal>=1.1.2 in /Users/satyamvats/Documents/ioco/poc/python/data-science-practice/.venv/lib/python3.12/site-packages (from aiohttp<4.0.0,>=3.8.3->langchain) (1.3.1)\n",
      "Requirement already satisfied: attrs>=17.3.0 in /Users/satyamvats/Documents/ioco/poc/python/data-science-practice/.venv/lib/python3.12/site-packages (from aiohttp<4.0.0,>=3.8.3->langchain) (23.2.0)\n",
      "Requirement already satisfied: frozenlist>=1.1.1 in /Users/satyamvats/Documents/ioco/poc/python/data-science-practice/.venv/lib/python3.12/site-packages (from aiohttp<4.0.0,>=3.8.3->langchain) (1.4.1)\n",
      "Requirement already satisfied: multidict<7.0,>=4.5 in /Users/satyamvats/Documents/ioco/poc/python/data-science-practice/.venv/lib/python3.12/site-packages (from aiohttp<4.0.0,>=3.8.3->langchain) (6.0.5)\n",
      "Requirement already satisfied: yarl<2.0,>=1.0 in /Users/satyamvats/Documents/ioco/poc/python/data-science-practice/.venv/lib/python3.12/site-packages (from aiohttp<4.0.0,>=3.8.3->langchain) (1.9.4)\n",
      "Requirement already satisfied: jsonpatch<2.0,>=1.33 in /Users/satyamvats/Documents/ioco/poc/python/data-science-practice/.venv/lib/python3.12/site-packages (from langchain-core<0.3.0,>=0.2.19->langchain) (1.33)\n",
      "Requirement already satisfied: packaging<25,>=23.2 in /Users/satyamvats/Documents/ioco/poc/python/data-science-practice/.venv/lib/python3.12/site-packages (from langchain-core<0.3.0,>=0.2.19->langchain) (24.1)\n",
      "Requirement already satisfied: orjson<4.0.0,>=3.9.14 in /Users/satyamvats/Documents/ioco/poc/python/data-science-practice/.venv/lib/python3.12/site-packages (from langsmith<0.2.0,>=0.1.17->langchain) (3.10.5)\n",
      "Requirement already satisfied: annotated-types>=0.4.0 in /Users/satyamvats/Documents/ioco/poc/python/data-science-practice/.venv/lib/python3.12/site-packages (from pydantic<3,>=1->langchain) (0.7.0)\n",
      "Requirement already satisfied: pydantic-core==2.18.4 in /Users/satyamvats/Documents/ioco/poc/python/data-science-practice/.venv/lib/python3.12/site-packages (from pydantic<3,>=1->langchain) (2.18.4)\n",
      "Requirement already satisfied: typing-extensions>=4.6.1 in /Users/satyamvats/Documents/ioco/poc/python/data-science-practice/.venv/lib/python3.12/site-packages (from pydantic<3,>=1->langchain) (4.12.2)\n",
      "Requirement already satisfied: charset-normalizer<4,>=2 in /Users/satyamvats/Documents/ioco/poc/python/data-science-practice/.venv/lib/python3.12/site-packages (from requests<3,>=2->langchain) (3.3.2)\n",
      "Requirement already satisfied: idna<4,>=2.5 in /Users/satyamvats/Documents/ioco/poc/python/data-science-practice/.venv/lib/python3.12/site-packages (from requests<3,>=2->langchain) (3.7)\n",
      "Requirement already satisfied: urllib3<3,>=1.21.1 in /Users/satyamvats/Documents/ioco/poc/python/data-science-practice/.venv/lib/python3.12/site-packages (from requests<3,>=2->langchain) (2.2.2)\n",
      "Requirement already satisfied: certifi>=2017.4.17 in /Users/satyamvats/Documents/ioco/poc/python/data-science-practice/.venv/lib/python3.12/site-packages (from requests<3,>=2->langchain) (2024.6.2)\n",
      "Requirement already satisfied: jsonpointer>=1.9 in /Users/satyamvats/Documents/ioco/poc/python/data-science-practice/.venv/lib/python3.12/site-packages (from jsonpatch<2.0,>=1.33->langchain-core<0.3.0,>=0.2.19->langchain) (3.0.0)\n",
      "Note: you may need to restart the kernel to use updated packages.\n",
      "Requirement already satisfied: unstructured in /Users/satyamvats/Documents/ioco/poc/python/data-science-practice/.venv/lib/python3.12/site-packages (0.14.9)\n",
      "Requirement already satisfied: chardet in /Users/satyamvats/Documents/ioco/poc/python/data-science-practice/.venv/lib/python3.12/site-packages (from unstructured) (5.2.0)\n",
      "Requirement already satisfied: filetype in /Users/satyamvats/Documents/ioco/poc/python/data-science-practice/.venv/lib/python3.12/site-packages (from unstructured) (1.2.0)\n",
      "Requirement already satisfied: python-magic in /Users/satyamvats/Documents/ioco/poc/python/data-science-practice/.venv/lib/python3.12/site-packages (from unstructured) (0.4.27)\n",
      "Requirement already satisfied: lxml in /Users/satyamvats/Documents/ioco/poc/python/data-science-practice/.venv/lib/python3.12/site-packages (from unstructured) (5.2.2)\n",
      "Requirement already satisfied: nltk in /Users/satyamvats/Documents/ioco/poc/python/data-science-practice/.venv/lib/python3.12/site-packages (from unstructured) (3.8.1)\n",
      "Requirement already satisfied: tabulate in /Users/satyamvats/Documents/ioco/poc/python/data-science-practice/.venv/lib/python3.12/site-packages (from unstructured) (0.9.0)\n",
      "Requirement already satisfied: requests in /Users/satyamvats/Documents/ioco/poc/python/data-science-practice/.venv/lib/python3.12/site-packages (from unstructured) (2.32.3)\n",
      "Requirement already satisfied: beautifulsoup4 in /Users/satyamvats/Documents/ioco/poc/python/data-science-practice/.venv/lib/python3.12/site-packages (from unstructured) (4.12.3)\n",
      "Requirement already satisfied: emoji in /Users/satyamvats/Documents/ioco/poc/python/data-science-practice/.venv/lib/python3.12/site-packages (from unstructured) (2.12.1)\n",
      "Requirement already satisfied: dataclasses-json in /Users/satyamvats/Documents/ioco/poc/python/data-science-practice/.venv/lib/python3.12/site-packages (from unstructured) (0.6.7)\n",
      "Requirement already satisfied: python-iso639 in /Users/satyamvats/Documents/ioco/poc/python/data-science-practice/.venv/lib/python3.12/site-packages (from unstructured) (2024.4.27)\n",
      "Requirement already satisfied: langdetect in /Users/satyamvats/Documents/ioco/poc/python/data-science-practice/.venv/lib/python3.12/site-packages (from unstructured) (1.0.9)\n",
      "Requirement already satisfied: numpy<2 in /Users/satyamvats/Documents/ioco/poc/python/data-science-practice/.venv/lib/python3.12/site-packages (from unstructured) (1.26.4)\n",
      "Requirement already satisfied: rapidfuzz in /Users/satyamvats/Documents/ioco/poc/python/data-science-practice/.venv/lib/python3.12/site-packages (from unstructured) (3.9.3)\n",
      "Requirement already satisfied: backoff in /Users/satyamvats/Documents/ioco/poc/python/data-science-practice/.venv/lib/python3.12/site-packages (from unstructured) (2.2.1)\n",
      "Requirement already satisfied: typing-extensions in /Users/satyamvats/Documents/ioco/poc/python/data-science-practice/.venv/lib/python3.12/site-packages (from unstructured) (4.12.2)\n",
      "Requirement already satisfied: unstructured-client in /Users/satyamvats/Documents/ioco/poc/python/data-science-practice/.venv/lib/python3.12/site-packages (from unstructured) (0.23.8)\n",
      "Requirement already satisfied: wrapt in /Users/satyamvats/Documents/ioco/poc/python/data-science-practice/.venv/lib/python3.12/site-packages (from unstructured) (1.16.0)\n",
      "Requirement already satisfied: tqdm in /Users/satyamvats/Documents/ioco/poc/python/data-science-practice/.venv/lib/python3.12/site-packages (from unstructured) (4.66.4)\n",
      "Requirement already satisfied: soupsieve>1.2 in /Users/satyamvats/Documents/ioco/poc/python/data-science-practice/.venv/lib/python3.12/site-packages (from beautifulsoup4->unstructured) (2.5)\n",
      "Requirement already satisfied: marshmallow<4.0.0,>=3.18.0 in /Users/satyamvats/Documents/ioco/poc/python/data-science-practice/.venv/lib/python3.12/site-packages (from dataclasses-json->unstructured) (3.21.3)\n",
      "Requirement already satisfied: typing-inspect<1,>=0.4.0 in /Users/satyamvats/Documents/ioco/poc/python/data-science-practice/.venv/lib/python3.12/site-packages (from dataclasses-json->unstructured) (0.9.0)\n",
      "Requirement already satisfied: six in /Users/satyamvats/Documents/ioco/poc/python/data-science-practice/.venv/lib/python3.12/site-packages (from langdetect->unstructured) (1.16.0)\n",
      "Requirement already satisfied: click in /Users/satyamvats/Documents/ioco/poc/python/data-science-practice/.venv/lib/python3.12/site-packages (from nltk->unstructured) (8.1.7)\n",
      "Requirement already satisfied: joblib in /Users/satyamvats/Documents/ioco/poc/python/data-science-practice/.venv/lib/python3.12/site-packages (from nltk->unstructured) (1.4.2)\n",
      "Requirement already satisfied: regex>=2021.8.3 in /Users/satyamvats/Documents/ioco/poc/python/data-science-practice/.venv/lib/python3.12/site-packages (from nltk->unstructured) (2024.5.15)\n",
      "Requirement already satisfied: charset-normalizer<4,>=2 in /Users/satyamvats/Documents/ioco/poc/python/data-science-practice/.venv/lib/python3.12/site-packages (from requests->unstructured) (3.3.2)\n",
      "Requirement already satisfied: idna<4,>=2.5 in /Users/satyamvats/Documents/ioco/poc/python/data-science-practice/.venv/lib/python3.12/site-packages (from requests->unstructured) (3.7)\n",
      "Requirement already satisfied: urllib3<3,>=1.21.1 in /Users/satyamvats/Documents/ioco/poc/python/data-science-practice/.venv/lib/python3.12/site-packages (from requests->unstructured) (2.2.2)\n",
      "Requirement already satisfied: certifi>=2017.4.17 in /Users/satyamvats/Documents/ioco/poc/python/data-science-practice/.venv/lib/python3.12/site-packages (from requests->unstructured) (2024.6.2)\n",
      "Requirement already satisfied: deepdiff>=6.0 in /Users/satyamvats/Documents/ioco/poc/python/data-science-practice/.venv/lib/python3.12/site-packages (from unstructured-client->unstructured) (7.0.1)\n",
      "Requirement already satisfied: httpx>=0.27.0 in /Users/satyamvats/Documents/ioco/poc/python/data-science-practice/.venv/lib/python3.12/site-packages (from unstructured-client->unstructured) (0.27.0)\n",
      "Requirement already satisfied: jsonpath-python>=1.0.6 in /Users/satyamvats/Documents/ioco/poc/python/data-science-practice/.venv/lib/python3.12/site-packages (from unstructured-client->unstructured) (1.0.6)\n",
      "Requirement already satisfied: mypy-extensions>=1.0.0 in /Users/satyamvats/Documents/ioco/poc/python/data-science-practice/.venv/lib/python3.12/site-packages (from unstructured-client->unstructured) (1.0.0)\n",
      "Requirement already satisfied: nest-asyncio>=1.6.0 in /Users/satyamvats/Documents/ioco/poc/python/data-science-practice/.venv/lib/python3.12/site-packages (from unstructured-client->unstructured) (1.6.0)\n",
      "Requirement already satisfied: packaging>=23.1 in /Users/satyamvats/Documents/ioco/poc/python/data-science-practice/.venv/lib/python3.12/site-packages (from unstructured-client->unstructured) (24.1)\n",
      "Requirement already satisfied: pypdf>=4.0 in /Users/satyamvats/Documents/ioco/poc/python/data-science-practice/.venv/lib/python3.12/site-packages (from unstructured-client->unstructured) (4.3.0)\n",
      "Requirement already satisfied: python-dateutil>=2.8.2 in /Users/satyamvats/Documents/ioco/poc/python/data-science-practice/.venv/lib/python3.12/site-packages (from unstructured-client->unstructured) (2.9.0.post0)\n",
      "Requirement already satisfied: requests-toolbelt>=1.0.0 in /Users/satyamvats/Documents/ioco/poc/python/data-science-practice/.venv/lib/python3.12/site-packages (from unstructured-client->unstructured) (1.0.0)\n",
      "Requirement already satisfied: ordered-set<4.2.0,>=4.1.0 in /Users/satyamvats/Documents/ioco/poc/python/data-science-practice/.venv/lib/python3.12/site-packages (from deepdiff>=6.0->unstructured-client->unstructured) (4.1.0)\n",
      "Requirement already satisfied: anyio in /Users/satyamvats/Documents/ioco/poc/python/data-science-practice/.venv/lib/python3.12/site-packages (from httpx>=0.27.0->unstructured-client->unstructured) (4.4.0)\n",
      "Requirement already satisfied: httpcore==1.* in /Users/satyamvats/Documents/ioco/poc/python/data-science-practice/.venv/lib/python3.12/site-packages (from httpx>=0.27.0->unstructured-client->unstructured) (1.0.5)\n",
      "Requirement already satisfied: sniffio in /Users/satyamvats/Documents/ioco/poc/python/data-science-practice/.venv/lib/python3.12/site-packages (from httpx>=0.27.0->unstructured-client->unstructured) (1.3.1)\n",
      "Requirement already satisfied: h11<0.15,>=0.13 in /Users/satyamvats/Documents/ioco/poc/python/data-science-practice/.venv/lib/python3.12/site-packages (from httpcore==1.*->httpx>=0.27.0->unstructured-client->unstructured) (0.14.0)\n",
      "Note: you may need to restart the kernel to use updated packages.\n",
      "Requirement already satisfied: langchain-openai in /Users/satyamvats/Documents/ioco/poc/python/data-science-practice/.venv/lib/python3.12/site-packages (0.1.16)\n",
      "Requirement already satisfied: langchain-core<0.3.0,>=0.2.17 in /Users/satyamvats/Documents/ioco/poc/python/data-science-practice/.venv/lib/python3.12/site-packages (from langchain-openai) (0.2.19)\n",
      "Requirement already satisfied: openai<2.0.0,>=1.32.0 in /Users/satyamvats/Documents/ioco/poc/python/data-science-practice/.venv/lib/python3.12/site-packages (from langchain-openai) (1.35.7)\n",
      "Requirement already satisfied: tiktoken<1,>=0.7 in /Users/satyamvats/Documents/ioco/poc/python/data-science-practice/.venv/lib/python3.12/site-packages (from langchain-openai) (0.7.0)\n",
      "Requirement already satisfied: PyYAML>=5.3 in /Users/satyamvats/Documents/ioco/poc/python/data-science-practice/.venv/lib/python3.12/site-packages (from langchain-core<0.3.0,>=0.2.17->langchain-openai) (6.0.1)\n",
      "Requirement already satisfied: jsonpatch<2.0,>=1.33 in /Users/satyamvats/Documents/ioco/poc/python/data-science-practice/.venv/lib/python3.12/site-packages (from langchain-core<0.3.0,>=0.2.17->langchain-openai) (1.33)\n",
      "Requirement already satisfied: langsmith<0.2.0,>=0.1.75 in /Users/satyamvats/Documents/ioco/poc/python/data-science-practice/.venv/lib/python3.12/site-packages (from langchain-core<0.3.0,>=0.2.17->langchain-openai) (0.1.82)\n",
      "Requirement already satisfied: packaging<25,>=23.2 in /Users/satyamvats/Documents/ioco/poc/python/data-science-practice/.venv/lib/python3.12/site-packages (from langchain-core<0.3.0,>=0.2.17->langchain-openai) (24.1)\n",
      "Requirement already satisfied: pydantic<3.0.0,>=2.7.4 in /Users/satyamvats/Documents/ioco/poc/python/data-science-practice/.venv/lib/python3.12/site-packages (from langchain-core<0.3.0,>=0.2.17->langchain-openai) (2.7.4)\n",
      "Requirement already satisfied: tenacity!=8.4.0,<9.0.0,>=8.1.0 in /Users/satyamvats/Documents/ioco/poc/python/data-science-practice/.venv/lib/python3.12/site-packages (from langchain-core<0.3.0,>=0.2.17->langchain-openai) (8.4.2)\n",
      "Requirement already satisfied: anyio<5,>=3.5.0 in /Users/satyamvats/Documents/ioco/poc/python/data-science-practice/.venv/lib/python3.12/site-packages (from openai<2.0.0,>=1.32.0->langchain-openai) (4.4.0)\n",
      "Requirement already satisfied: distro<2,>=1.7.0 in /Users/satyamvats/Documents/ioco/poc/python/data-science-practice/.venv/lib/python3.12/site-packages (from openai<2.0.0,>=1.32.0->langchain-openai) (1.9.0)\n",
      "Requirement already satisfied: httpx<1,>=0.23.0 in /Users/satyamvats/Documents/ioco/poc/python/data-science-practice/.venv/lib/python3.12/site-packages (from openai<2.0.0,>=1.32.0->langchain-openai) (0.27.0)\n",
      "Requirement already satisfied: sniffio in /Users/satyamvats/Documents/ioco/poc/python/data-science-practice/.venv/lib/python3.12/site-packages (from openai<2.0.0,>=1.32.0->langchain-openai) (1.3.1)\n",
      "Requirement already satisfied: tqdm>4 in /Users/satyamvats/Documents/ioco/poc/python/data-science-practice/.venv/lib/python3.12/site-packages (from openai<2.0.0,>=1.32.0->langchain-openai) (4.66.4)\n",
      "Requirement already satisfied: typing-extensions<5,>=4.7 in /Users/satyamvats/Documents/ioco/poc/python/data-science-practice/.venv/lib/python3.12/site-packages (from openai<2.0.0,>=1.32.0->langchain-openai) (4.12.2)\n",
      "Requirement already satisfied: regex>=2022.1.18 in /Users/satyamvats/Documents/ioco/poc/python/data-science-practice/.venv/lib/python3.12/site-packages (from tiktoken<1,>=0.7->langchain-openai) (2024.5.15)\n",
      "Requirement already satisfied: requests>=2.26.0 in /Users/satyamvats/Documents/ioco/poc/python/data-science-practice/.venv/lib/python3.12/site-packages (from tiktoken<1,>=0.7->langchain-openai) (2.32.3)\n",
      "Requirement already satisfied: idna>=2.8 in /Users/satyamvats/Documents/ioco/poc/python/data-science-practice/.venv/lib/python3.12/site-packages (from anyio<5,>=3.5.0->openai<2.0.0,>=1.32.0->langchain-openai) (3.7)\n",
      "Requirement already satisfied: certifi in /Users/satyamvats/Documents/ioco/poc/python/data-science-practice/.venv/lib/python3.12/site-packages (from httpx<1,>=0.23.0->openai<2.0.0,>=1.32.0->langchain-openai) (2024.6.2)\n",
      "Requirement already satisfied: httpcore==1.* in /Users/satyamvats/Documents/ioco/poc/python/data-science-practice/.venv/lib/python3.12/site-packages (from httpx<1,>=0.23.0->openai<2.0.0,>=1.32.0->langchain-openai) (1.0.5)\n",
      "Requirement already satisfied: h11<0.15,>=0.13 in /Users/satyamvats/Documents/ioco/poc/python/data-science-practice/.venv/lib/python3.12/site-packages (from httpcore==1.*->httpx<1,>=0.23.0->openai<2.0.0,>=1.32.0->langchain-openai) (0.14.0)\n",
      "Requirement already satisfied: jsonpointer>=1.9 in /Users/satyamvats/Documents/ioco/poc/python/data-science-practice/.venv/lib/python3.12/site-packages (from jsonpatch<2.0,>=1.33->langchain-core<0.3.0,>=0.2.17->langchain-openai) (3.0.0)\n",
      "Requirement already satisfied: orjson<4.0.0,>=3.9.14 in /Users/satyamvats/Documents/ioco/poc/python/data-science-practice/.venv/lib/python3.12/site-packages (from langsmith<0.2.0,>=0.1.75->langchain-core<0.3.0,>=0.2.17->langchain-openai) (3.10.5)\n",
      "Requirement already satisfied: annotated-types>=0.4.0 in /Users/satyamvats/Documents/ioco/poc/python/data-science-practice/.venv/lib/python3.12/site-packages (from pydantic<3.0.0,>=2.7.4->langchain-core<0.3.0,>=0.2.17->langchain-openai) (0.7.0)\n",
      "Requirement already satisfied: pydantic-core==2.18.4 in /Users/satyamvats/Documents/ioco/poc/python/data-science-practice/.venv/lib/python3.12/site-packages (from pydantic<3.0.0,>=2.7.4->langchain-core<0.3.0,>=0.2.17->langchain-openai) (2.18.4)\n",
      "Requirement already satisfied: charset-normalizer<4,>=2 in /Users/satyamvats/Documents/ioco/poc/python/data-science-practice/.venv/lib/python3.12/site-packages (from requests>=2.26.0->tiktoken<1,>=0.7->langchain-openai) (3.3.2)\n",
      "Requirement already satisfied: urllib3<3,>=1.21.1 in /Users/satyamvats/Documents/ioco/poc/python/data-science-practice/.venv/lib/python3.12/site-packages (from requests>=2.26.0->tiktoken<1,>=0.7->langchain-openai) (2.2.2)\n",
      "Note: you may need to restart the kernel to use updated packages.\n",
      "Requirement already satisfied: langchain in /Users/satyamvats/Documents/ioco/poc/python/data-science-practice/.venv/lib/python3.12/site-packages (0.2.8)\n",
      "Requirement already satisfied: langchain-community in /Users/satyamvats/Documents/ioco/poc/python/data-science-practice/.venv/lib/python3.12/site-packages (0.2.7)\n",
      "Requirement already satisfied: PyYAML>=5.3 in /Users/satyamvats/Documents/ioco/poc/python/data-science-practice/.venv/lib/python3.12/site-packages (from langchain) (6.0.1)\n",
      "Requirement already satisfied: SQLAlchemy<3,>=1.4 in /Users/satyamvats/Documents/ioco/poc/python/data-science-practice/.venv/lib/python3.12/site-packages (from langchain) (2.0.31)\n",
      "Requirement already satisfied: aiohttp<4.0.0,>=3.8.3 in /Users/satyamvats/Documents/ioco/poc/python/data-science-practice/.venv/lib/python3.12/site-packages (from langchain) (3.9.5)\n",
      "Requirement already satisfied: langchain-core<0.3.0,>=0.2.19 in /Users/satyamvats/Documents/ioco/poc/python/data-science-practice/.venv/lib/python3.12/site-packages (from langchain) (0.2.19)\n",
      "Requirement already satisfied: langchain-text-splitters<0.3.0,>=0.2.0 in /Users/satyamvats/Documents/ioco/poc/python/data-science-practice/.venv/lib/python3.12/site-packages (from langchain) (0.2.2)\n",
      "Requirement already satisfied: langsmith<0.2.0,>=0.1.17 in /Users/satyamvats/Documents/ioco/poc/python/data-science-practice/.venv/lib/python3.12/site-packages (from langchain) (0.1.82)\n",
      "Requirement already satisfied: numpy<2.0.0,>=1.26.0 in /Users/satyamvats/Documents/ioco/poc/python/data-science-practice/.venv/lib/python3.12/site-packages (from langchain) (1.26.4)\n",
      "Requirement already satisfied: pydantic<3,>=1 in /Users/satyamvats/Documents/ioco/poc/python/data-science-practice/.venv/lib/python3.12/site-packages (from langchain) (2.7.4)\n",
      "Requirement already satisfied: requests<3,>=2 in /Users/satyamvats/Documents/ioco/poc/python/data-science-practice/.venv/lib/python3.12/site-packages (from langchain) (2.32.3)\n",
      "Requirement already satisfied: tenacity!=8.4.0,<9.0.0,>=8.1.0 in /Users/satyamvats/Documents/ioco/poc/python/data-science-practice/.venv/lib/python3.12/site-packages (from langchain) (8.4.2)\n",
      "Requirement already satisfied: dataclasses-json<0.7,>=0.5.7 in /Users/satyamvats/Documents/ioco/poc/python/data-science-practice/.venv/lib/python3.12/site-packages (from langchain-community) (0.6.7)\n",
      "Requirement already satisfied: aiosignal>=1.1.2 in /Users/satyamvats/Documents/ioco/poc/python/data-science-practice/.venv/lib/python3.12/site-packages (from aiohttp<4.0.0,>=3.8.3->langchain) (1.3.1)\n",
      "Requirement already satisfied: attrs>=17.3.0 in /Users/satyamvats/Documents/ioco/poc/python/data-science-practice/.venv/lib/python3.12/site-packages (from aiohttp<4.0.0,>=3.8.3->langchain) (23.2.0)\n",
      "Requirement already satisfied: frozenlist>=1.1.1 in /Users/satyamvats/Documents/ioco/poc/python/data-science-practice/.venv/lib/python3.12/site-packages (from aiohttp<4.0.0,>=3.8.3->langchain) (1.4.1)\n",
      "Requirement already satisfied: multidict<7.0,>=4.5 in /Users/satyamvats/Documents/ioco/poc/python/data-science-practice/.venv/lib/python3.12/site-packages (from aiohttp<4.0.0,>=3.8.3->langchain) (6.0.5)\n",
      "Requirement already satisfied: yarl<2.0,>=1.0 in /Users/satyamvats/Documents/ioco/poc/python/data-science-practice/.venv/lib/python3.12/site-packages (from aiohttp<4.0.0,>=3.8.3->langchain) (1.9.4)\n",
      "Requirement already satisfied: marshmallow<4.0.0,>=3.18.0 in /Users/satyamvats/Documents/ioco/poc/python/data-science-practice/.venv/lib/python3.12/site-packages (from dataclasses-json<0.7,>=0.5.7->langchain-community) (3.21.3)\n",
      "Requirement already satisfied: typing-inspect<1,>=0.4.0 in /Users/satyamvats/Documents/ioco/poc/python/data-science-practice/.venv/lib/python3.12/site-packages (from dataclasses-json<0.7,>=0.5.7->langchain-community) (0.9.0)\n",
      "Requirement already satisfied: jsonpatch<2.0,>=1.33 in /Users/satyamvats/Documents/ioco/poc/python/data-science-practice/.venv/lib/python3.12/site-packages (from langchain-core<0.3.0,>=0.2.19->langchain) (1.33)\n",
      "Requirement already satisfied: packaging<25,>=23.2 in /Users/satyamvats/Documents/ioco/poc/python/data-science-practice/.venv/lib/python3.12/site-packages (from langchain-core<0.3.0,>=0.2.19->langchain) (24.1)\n",
      "Requirement already satisfied: orjson<4.0.0,>=3.9.14 in /Users/satyamvats/Documents/ioco/poc/python/data-science-practice/.venv/lib/python3.12/site-packages (from langsmith<0.2.0,>=0.1.17->langchain) (3.10.5)\n",
      "Requirement already satisfied: annotated-types>=0.4.0 in /Users/satyamvats/Documents/ioco/poc/python/data-science-practice/.venv/lib/python3.12/site-packages (from pydantic<3,>=1->langchain) (0.7.0)\n",
      "Requirement already satisfied: pydantic-core==2.18.4 in /Users/satyamvats/Documents/ioco/poc/python/data-science-practice/.venv/lib/python3.12/site-packages (from pydantic<3,>=1->langchain) (2.18.4)\n",
      "Requirement already satisfied: typing-extensions>=4.6.1 in /Users/satyamvats/Documents/ioco/poc/python/data-science-practice/.venv/lib/python3.12/site-packages (from pydantic<3,>=1->langchain) (4.12.2)\n",
      "Requirement already satisfied: charset-normalizer<4,>=2 in /Users/satyamvats/Documents/ioco/poc/python/data-science-practice/.venv/lib/python3.12/site-packages (from requests<3,>=2->langchain) (3.3.2)\n",
      "Requirement already satisfied: idna<4,>=2.5 in /Users/satyamvats/Documents/ioco/poc/python/data-science-practice/.venv/lib/python3.12/site-packages (from requests<3,>=2->langchain) (3.7)\n",
      "Requirement already satisfied: urllib3<3,>=1.21.1 in /Users/satyamvats/Documents/ioco/poc/python/data-science-practice/.venv/lib/python3.12/site-packages (from requests<3,>=2->langchain) (2.2.2)\n",
      "Requirement already satisfied: certifi>=2017.4.17 in /Users/satyamvats/Documents/ioco/poc/python/data-science-practice/.venv/lib/python3.12/site-packages (from requests<3,>=2->langchain) (2024.6.2)\n",
      "Requirement already satisfied: jsonpointer>=1.9 in /Users/satyamvats/Documents/ioco/poc/python/data-science-practice/.venv/lib/python3.12/site-packages (from jsonpatch<2.0,>=1.33->langchain-core<0.3.0,>=0.2.19->langchain) (3.0.0)\n",
      "Requirement already satisfied: mypy-extensions>=0.3.0 in /Users/satyamvats/Documents/ioco/poc/python/data-science-practice/.venv/lib/python3.12/site-packages (from typing-inspect<1,>=0.4.0->dataclasses-json<0.7,>=0.5.7->langchain-community) (1.0.0)\n",
      "Note: you may need to restart the kernel to use updated packages.\n",
      "Note: you may need to restart the kernel to use updated packages.\n",
      "Note: you may need to restart the kernel to use updated packages.\n"
     ]
    }
   ],
   "source": [
    "%pip install openai\n",
    "%pip install langchain\n",
    "%pip install unstructured\n",
    "%pip install -U langchain-openai\n",
    "%pip install langchain langchain-community\n",
    "%pip install --upgrade --quiet  langchain-pinecone langchain-openai langchain\n",
    "%pip install --upgrade --quiet pypdf"
   ]
  },
  {
   "cell_type": "code",
   "execution_count": 26,
   "metadata": {},
   "outputs": [],
   "source": [
    "import langchain\n",
    "from langchain_openai import OpenAI\n",
    "from langchain.chains import RetrievalQAWithSourcesChain\n",
    "from langchain.chains.qa_with_sources.loading import load_qa_with_sources_chain\n",
    "from langchain.text_splitter import RecursiveCharacterTextSplitter\n",
    "from langchain_openai import OpenAIEmbeddings\n",
    "from langchain_pinecone import Pinecone\n",
    "from langchain_community.document_loaders import PyPDFLoader"
   ]
  },
  {
   "cell_type": "markdown",
   "metadata": {},
   "source": [
    "### Get the configuration from the configuration file"
   ]
  },
  {
   "cell_type": "code",
   "execution_count": 27,
   "metadata": {},
   "outputs": [],
   "source": [
    "from dotenv import load_dotenv\n",
    "import os\n",
    "\n",
    "load_dotenv()  # take environment variables from .env.\n",
    "\n",
    "openai_api_key = os.getenv('OPENAI_API_KEY')\n",
    "pinecone_api_key = os.getenv('PINECONE_API_KEY')\n",
    "\n",
    "os.environ['OPENAI_API_KEY'] = openai_api_key\n",
    "os.environ['PINECONE_API_KEY'] = pinecone_api_key"
   ]
  },
  {
   "cell_type": "markdown",
   "metadata": {},
   "source": [
    "### Extract text from PDF"
   ]
  },
  {
   "cell_type": "code",
   "execution_count": 28,
   "metadata": {},
   "outputs": [],
   "source": [
    "def extract_text_from_pdf(pdf_path):\n",
    "    loader = PyPDFLoader(pdf_path)\n",
    "    documents = loader.load()\n",
    "    return documents\n"
   ]
  },
  {
   "cell_type": "code",
   "execution_count": 29,
   "metadata": {},
   "outputs": [
    {
     "name": "stdout",
     "output_type": "stream",
     "text": [
      "Number of documents: 32\n"
     ]
    }
   ],
   "source": [
    "# Extract text from a PDF file\n",
    "pdf_path = \"./Interim_Budget.pdf\"\n",
    "data = extract_text_from_pdf(pdf_path)\n",
    "print('Number of documents:', len(data))"
   ]
  },
  {
   "cell_type": "markdown",
   "metadata": {},
   "source": [
    "### Split text into chunks"
   ]
  },
  {
   "cell_type": "code",
   "execution_count": 30,
   "metadata": {},
   "outputs": [],
   "source": [
    "def split_data_into_chunks(data, chunk_size=1000, chunk_overlap=200):\n",
    "    text_splitter = RecursiveCharacterTextSplitter(chunk_size=chunk_size, chunk_overlap=chunk_overlap)\n",
    "    docs = text_splitter.split_documents(data)\n",
    "    return docs"
   ]
  },
  {
   "cell_type": "code",
   "execution_count": 31,
   "metadata": {},
   "outputs": [
    {
     "name": "stdout",
     "output_type": "stream",
     "text": [
      "Number of chunks: 57\n"
     ]
    }
   ],
   "source": [
    "# Split the text into chunks\n",
    "docs = split_data_into_chunks(data)\n",
    "\n",
    "# Print the number of chunks\n",
    "print('Number of chunks:', len(docs))"
   ]
  },
  {
   "cell_type": "markdown",
   "metadata": {},
   "source": [
    "### Generate embeddings"
   ]
  },
  {
   "cell_type": "code",
   "execution_count": 32,
   "metadata": {},
   "outputs": [],
   "source": [
    "# Create the embeddings of the chunks using openAIEmbeddings\n",
    "embeddings = OpenAIEmbeddings()"
   ]
  },
  {
   "cell_type": "markdown",
   "metadata": {},
   "source": [
    "### Store embeddings in a database"
   ]
  },
  {
   "cell_type": "code",
   "execution_count": 33,
   "metadata": {},
   "outputs": [],
   "source": [
    "docsearch = Pinecone.from_documents(documents=docs, embedding=embeddings, index_name=\"qabot\")"
   ]
  },
  {
   "cell_type": "markdown",
   "metadata": {},
   "source": [
    "### Retrive embeddings from the database"
   ]
  },
  {
   "cell_type": "code",
   "execution_count": 34,
   "metadata": {},
   "outputs": [
    {
     "name": "stdout",
     "output_type": "stream",
     "text": [
      "Total number of documents: 4\n",
      "GOVERNMENT OF INDIA\n",
      "INTERIM BUDGET 2024-2025\n",
      "SPEECH\n",
      "OF\n",
      "NIRMALA SITHARAMAN\n",
      "MINISTER OF FINANCE\n",
      "February 1,  2024\n"
     ]
    }
   ],
   "source": [
    "query = \"Who is finance minister of India?\"\n",
    "docs = docsearch.similarity_search(query)\n",
    "print('Total number of documents:', len(docs))\n",
    "print(docs[0].page_content)"
   ]
  },
  {
   "cell_type": "markdown",
   "metadata": {},
   "source": [
    "### Initialize the language model"
   ]
  },
  {
   "cell_type": "code",
   "execution_count": 35,
   "metadata": {},
   "outputs": [],
   "source": [
    "llm = OpenAI(temperature=0.7, max_tokens=500)"
   ]
  },
  {
   "cell_type": "markdown",
   "metadata": {},
   "source": [
    "### Query the System"
   ]
  },
  {
   "cell_type": "code",
   "execution_count": 36,
   "metadata": {},
   "outputs": [],
   "source": [
    "chain = RetrievalQAWithSourcesChain.from_llm(llm=llm, retriever=docsearch.as_retriever())"
   ]
  },
  {
   "cell_type": "code",
   "execution_count": 37,
   "metadata": {},
   "outputs": [
    {
     "name": "stdout",
     "output_type": "stream",
     "text": [
      "\u001b[32;1m\u001b[1;3m[chain/start]\u001b[0m \u001b[1m[chain:RetrievalQAWithSourcesChain] Entering Chain run with input:\n",
      "\u001b[0m{\n",
      "  \"question\": \"Who is finance minister of India?\"\n",
      "}\n",
      "\u001b[32;1m\u001b[1;3m[chain/start]\u001b[0m \u001b[1m[chain:RetrievalQAWithSourcesChain > chain:MapReduceDocumentsChain] Entering Chain run with input:\n",
      "\u001b[0m[inputs]\n",
      "\u001b[32;1m\u001b[1;3m[chain/start]\u001b[0m \u001b[1m[chain:RetrievalQAWithSourcesChain > chain:MapReduceDocumentsChain > chain:LLMChain] Entering Chain run with input:\n",
      "\u001b[0m{\n",
      "  \"input_list\": [\n",
      "    {\n",
      "      \"context\": \"GOVERNMENT OF INDIA\\nINTERIM BUDGET 2024-2025\\nSPEECH\\nOF\\nNIRMALA SITHARAMAN\\nMINISTER OF FINANCE\\nFebruary 1,  2024\",\n",
      "      \"question\": \"Who is finance minister of India?\"\n",
      "    },\n",
      "    {\n",
      "      \"context\": \"GOVERNMENT OF INDIA\\nINTERIM BUDGET 2024-2025\\nSPEECH\\nOF\\nNIRMALA SITHARAMAN\\nMINISTER OF FINANCE\\nFebruary 1,  2024\",\n",
      "      \"question\": \"Who is finance minister of India?\"\n",
      "    },\n",
      "    {\n",
      "      \"context\": \"GOVERNMENT OF INDIA\\nINTERIM BUDGET 2024-2025\\nSPEECH\\nOF\\nNIRMALA SITHARAMAN\\nMINISTER OF FINANCE\\nFebruary 1,  2024\",\n",
      "      \"question\": \"Who is finance minister of India?\"\n",
      "    },\n",
      "    {\n",
      "      \"context\": \"GOVERNMENT OF INDIA\\nINTERIM BUDGET 2024-2025\\nSPEECH\\nOF\\nNIRMALA SITHARAMAN\\nMINISTER OF FINANCE\\nFebruary 1,  2024\",\n",
      "      \"question\": \"Who is finance minister of India?\"\n",
      "    }\n",
      "  ]\n",
      "}\n",
      "\u001b[32;1m\u001b[1;3m[llm/start]\u001b[0m \u001b[1m[chain:RetrievalQAWithSourcesChain > chain:MapReduceDocumentsChain > chain:LLMChain > llm:OpenAI] Entering LLM run with input:\n",
      "\u001b[0m{\n",
      "  \"prompts\": [\n",
      "    \"Use the following portion of a long document to see if any of the text is relevant to answer the question. \\nReturn any relevant text verbatim.\\nGOVERNMENT OF INDIA\\nINTERIM BUDGET 2024-2025\\nSPEECH\\nOF\\nNIRMALA SITHARAMAN\\nMINISTER OF FINANCE\\nFebruary 1,  2024\\nQuestion: Who is finance minister of India?\\nRelevant text, if any:\"\n",
      "  ]\n",
      "}\n",
      "\u001b[32;1m\u001b[1;3m[llm/start]\u001b[0m \u001b[1m[chain:RetrievalQAWithSourcesChain > chain:MapReduceDocumentsChain > chain:LLMChain > llm:OpenAI] Entering LLM run with input:\n",
      "\u001b[0m{\n",
      "  \"prompts\": [\n",
      "    \"Use the following portion of a long document to see if any of the text is relevant to answer the question. \\nReturn any relevant text verbatim.\\nGOVERNMENT OF INDIA\\nINTERIM BUDGET 2024-2025\\nSPEECH\\nOF\\nNIRMALA SITHARAMAN\\nMINISTER OF FINANCE\\nFebruary 1,  2024\\nQuestion: Who is finance minister of India?\\nRelevant text, if any:\"\n",
      "  ]\n",
      "}\n",
      "\u001b[32;1m\u001b[1;3m[llm/start]\u001b[0m \u001b[1m[chain:RetrievalQAWithSourcesChain > chain:MapReduceDocumentsChain > chain:LLMChain > llm:OpenAI] Entering LLM run with input:\n",
      "\u001b[0m{\n",
      "  \"prompts\": [\n",
      "    \"Use the following portion of a long document to see if any of the text is relevant to answer the question. \\nReturn any relevant text verbatim.\\nGOVERNMENT OF INDIA\\nINTERIM BUDGET 2024-2025\\nSPEECH\\nOF\\nNIRMALA SITHARAMAN\\nMINISTER OF FINANCE\\nFebruary 1,  2024\\nQuestion: Who is finance minister of India?\\nRelevant text, if any:\"\n",
      "  ]\n",
      "}\n",
      "\u001b[32;1m\u001b[1;3m[llm/start]\u001b[0m \u001b[1m[chain:RetrievalQAWithSourcesChain > chain:MapReduceDocumentsChain > chain:LLMChain > llm:OpenAI] Entering LLM run with input:\n",
      "\u001b[0m{\n",
      "  \"prompts\": [\n",
      "    \"Use the following portion of a long document to see if any of the text is relevant to answer the question. \\nReturn any relevant text verbatim.\\nGOVERNMENT OF INDIA\\nINTERIM BUDGET 2024-2025\\nSPEECH\\nOF\\nNIRMALA SITHARAMAN\\nMINISTER OF FINANCE\\nFebruary 1,  2024\\nQuestion: Who is finance minister of India?\\nRelevant text, if any:\"\n",
      "  ]\n",
      "}\n",
      "\u001b[36;1m\u001b[1;3m[llm/end]\u001b[0m \u001b[1m[chain:RetrievalQAWithSourcesChain > chain:MapReduceDocumentsChain > chain:LLMChain > llm:OpenAI] [1.05s] Exiting LLM run with output:\n",
      "\u001b[0m{\n",
      "  \"generations\": [\n",
      "    [\n",
      "      {\n",
      "        \"text\": \" Nirmala Sitharaman is the finance minister of India.\",\n",
      "        \"generation_info\": {\n",
      "          \"finish_reason\": \"stop\",\n",
      "          \"logprobs\": null\n",
      "        },\n",
      "        \"type\": \"Generation\"\n",
      "      }\n",
      "    ]\n",
      "  ],\n",
      "  \"llm_output\": {\n",
      "    \"token_usage\": {\n",
      "      \"prompt_tokens\": 376,\n",
      "      \"completion_tokens\": 52,\n",
      "      \"total_tokens\": 428\n",
      "    },\n",
      "    \"model_name\": \"gpt-3.5-turbo-instruct\"\n",
      "  },\n",
      "  \"run\": null\n",
      "}\n",
      "\u001b[36;1m\u001b[1;3m[llm/end]\u001b[0m \u001b[1m[chain:RetrievalQAWithSourcesChain > chain:MapReduceDocumentsChain > chain:LLMChain > llm:OpenAI] [1.05s] Exiting LLM run with output:\n",
      "\u001b[0m{\n",
      "  \"generations\": [\n",
      "    [\n",
      "      {\n",
      "        \"text\": \" Nirmala Sitharaman is the finance minister of India.\",\n",
      "        \"generation_info\": {\n",
      "          \"finish_reason\": \"stop\",\n",
      "          \"logprobs\": null\n",
      "        },\n",
      "        \"type\": \"Generation\"\n",
      "      }\n",
      "    ]\n",
      "  ],\n",
      "  \"llm_output\": {\n",
      "    \"token_usage\": {},\n",
      "    \"model_name\": \"gpt-3.5-turbo-instruct\"\n",
      "  },\n",
      "  \"run\": null\n",
      "}\n",
      "\u001b[36;1m\u001b[1;3m[llm/end]\u001b[0m \u001b[1m[chain:RetrievalQAWithSourcesChain > chain:MapReduceDocumentsChain > chain:LLMChain > llm:OpenAI] [1.05s] Exiting LLM run with output:\n",
      "\u001b[0m{\n",
      "  \"generations\": [\n",
      "    [\n",
      "      {\n",
      "        \"text\": \" NIRMALA SITHARAMAN MINISTER OF FINANCE\",\n",
      "        \"generation_info\": {\n",
      "          \"finish_reason\": \"stop\",\n",
      "          \"logprobs\": null\n",
      "        },\n",
      "        \"type\": \"Generation\"\n",
      "      }\n",
      "    ]\n",
      "  ],\n",
      "  \"llm_output\": {\n",
      "    \"token_usage\": {},\n",
      "    \"model_name\": \"gpt-3.5-turbo-instruct\"\n",
      "  },\n",
      "  \"run\": null\n",
      "}\n",
      "\u001b[36;1m\u001b[1;3m[llm/end]\u001b[0m \u001b[1m[chain:RetrievalQAWithSourcesChain > chain:MapReduceDocumentsChain > chain:LLMChain > llm:OpenAI] [1.05s] Exiting LLM run with output:\n",
      "\u001b[0m{\n",
      "  \"generations\": [\n",
      "    [\n",
      "      {\n",
      "        \"text\": \" NIRMALA SITHARAMAN is the finance minister of India.\",\n",
      "        \"generation_info\": {\n",
      "          \"finish_reason\": \"stop\",\n",
      "          \"logprobs\": null\n",
      "        },\n",
      "        \"type\": \"Generation\"\n",
      "      }\n",
      "    ]\n",
      "  ],\n",
      "  \"llm_output\": {\n",
      "    \"token_usage\": {},\n",
      "    \"model_name\": \"gpt-3.5-turbo-instruct\"\n",
      "  },\n",
      "  \"run\": null\n",
      "}\n",
      "\u001b[36;1m\u001b[1;3m[chain/end]\u001b[0m \u001b[1m[chain:RetrievalQAWithSourcesChain > chain:MapReduceDocumentsChain > chain:LLMChain] [1.06s] Exiting Chain run with output:\n",
      "\u001b[0m{\n",
      "  \"outputs\": [\n",
      "    {\n",
      "      \"text\": \" Nirmala Sitharaman is the finance minister of India.\"\n",
      "    },\n",
      "    {\n",
      "      \"text\": \" Nirmala Sitharaman is the finance minister of India.\"\n",
      "    },\n",
      "    {\n",
      "      \"text\": \" NIRMALA SITHARAMAN MINISTER OF FINANCE\"\n",
      "    },\n",
      "    {\n",
      "      \"text\": \" NIRMALA SITHARAMAN is the finance minister of India.\"\n",
      "    }\n",
      "  ]\n",
      "}\n",
      "\u001b[32;1m\u001b[1;3m[chain/start]\u001b[0m \u001b[1m[chain:RetrievalQAWithSourcesChain > chain:MapReduceDocumentsChain > chain:LLMChain] Entering Chain run with input:\n",
      "\u001b[0m{\n",
      "  \"question\": \"Who is finance minister of India?\",\n",
      "  \"summaries\": \"Content:  Nirmala Sitharaman is the finance minister of India.\\nSource: /Users/satyamvats/Documents/ioco/poc/python/data-science-practice/app/Interim_Budget.pdf\\n\\nContent:  Nirmala Sitharaman is the finance minister of India.\\nSource: /Users/satyamvats/Documents/ioco/poc/python/data-science-practice/app/Interim_Budget.pdf\\n\\nContent:  NIRMALA SITHARAMAN MINISTER OF FINANCE\\nSource: ./Interim_Budget.pdf\\n\\nContent:  NIRMALA SITHARAMAN is the finance minister of India.\\nSource: ./Interim_Budget.pdf\"\n",
      "}\n",
      "\u001b[32;1m\u001b[1;3m[llm/start]\u001b[0m \u001b[1m[chain:RetrievalQAWithSourcesChain > chain:MapReduceDocumentsChain > chain:LLMChain > llm:OpenAI] Entering LLM run with input:\n",
      "\u001b[0m{\n",
      "  \"prompts\": [\n",
      "    \"Given the following extracted parts of a long document and a question, create a final answer with references (\\\"SOURCES\\\"). \\nIf you don't know the answer, just say that you don't know. Don't try to make up an answer.\\nALWAYS return a \\\"SOURCES\\\" part in your answer.\\n\\nQUESTION: Which state/country's law governs the interpretation of the contract?\\n=========\\nContent: This Agreement is governed by English law and the parties submit to the exclusive jurisdiction of the English courts in  relation to any dispute (contractual or non-contractual) concerning this Agreement save that either party may apply to any court for an  injunction or other relief to protect its Intellectual Property Rights.\\nSource: 28-pl\\nContent: No Waiver. Failure or delay in exercising any right or remedy under this Agreement shall not constitute a waiver of such (or any other)  right or remedy.\\n\\n11.7 Severability. The invalidity, illegality or unenforceability of any term (or part of a term) of this Agreement shall not affect the continuation  in force of the remainder of the term (if any) and this Agreement.\\n\\n11.8 No Agency. Except as expressly stated otherwise, nothing in this Agreement shall create an agency, partnership or joint venture of any  kind between the parties.\\n\\n11.9 No Third-Party Beneficiaries.\\nSource: 30-pl\\nContent: (b) if Google believes, in good faith, that the Distributor has violated or caused Google to violate any Anti-Bribery Laws (as  defined in Clause 8.5) or that such a violation is reasonably likely to occur,\\nSource: 4-pl\\n=========\\nFINAL ANSWER: This Agreement is governed by English law.\\nSOURCES: 28-pl\\n\\nQUESTION: What did the president say about Michael Jackson?\\n=========\\nContent: Madam Speaker, Madam Vice President, our First Lady and Second Gentleman. Members of Congress and the Cabinet. Justices of the Supreme Court. My fellow Americans.  \\n\\nLast year COVID-19 kept us apart. This year we are finally together again. \\n\\nTonight, we meet as Democrats Republicans and Independents. But most importantly as Americans. \\n\\nWith a duty to one another to the American people to the Constitution. \\n\\nAnd with an unwavering resolve that freedom will always triumph over tyranny. \\n\\nSix days ago, Russia’s Vladimir Putin sought to shake the foundations of the free world thinking he could make it bend to his menacing ways. But he badly miscalculated. \\n\\nHe thought he could roll into Ukraine and the world would roll over. Instead he met a wall of strength he never imagined. \\n\\nHe met the Ukrainian people. \\n\\nFrom President Zelenskyy to every Ukrainian, their fearlessness, their courage, their determination, inspires the world. \\n\\nGroups of citizens blocking tanks with their bodies. Everyone from students to retirees teachers turned soldiers defending their homeland.\\nSource: 0-pl\\nContent: And we won’t stop. \\n\\nWe have lost so much to COVID-19. Time with one another. And worst of all, so much loss of life. \\n\\nLet’s use this moment to reset. Let’s stop looking at COVID-19 as a partisan dividing line and see it for what it is: A God-awful disease.  \\n\\nLet’s stop seeing each other as enemies, and start seeing each other for who we really are: Fellow Americans.  \\n\\nWe can’t change how divided we’ve been. But we can change how we move forward—on COVID-19 and other issues we must face together. \\n\\nI recently visited the New York City Police Department days after the funerals of Officer Wilbert Mora and his partner, Officer Jason Rivera. \\n\\nThey were responding to a 9-1-1 call when a man shot and killed them with a stolen gun. \\n\\nOfficer Mora was 27 years old. \\n\\nOfficer Rivera was 22. \\n\\nBoth Dominican Americans who’d grown up on the same streets they later chose to patrol as police officers. \\n\\nI spoke with their families and told them that we are forever in debt for their sacrifice, and we will carry on their mission to restore the trust and safety every community deserves.\\nSource: 24-pl\\nContent: And a proud Ukrainian people, who have known 30 years  of independence, have repeatedly shown that they will not tolerate anyone who tries to take their country backwards.  \\n\\nTo all Americans, I will be honest with you, as I’ve always promised. A Russian dictator, invading a foreign country, has costs around the world. \\n\\nAnd I’m taking robust action to make sure the pain of our sanctions  is targeted at Russia’s economy. And I will use every tool at our disposal to protect American businesses and consumers. \\n\\nTonight, I can announce that the United States has worked with 30 other countries to release 60 Million barrels of oil from reserves around the world.  \\n\\nAmerica will lead that effort, releasing 30 Million barrels from our own Strategic Petroleum Reserve. And we stand ready to do more if necessary, unified with our allies.  \\n\\nThese steps will help blunt gas prices here at home. And I know the news about what’s happening can seem alarming. \\n\\nBut I want you to know that we are going to be okay.\\nSource: 5-pl\\nContent: More support for patients and families. \\n\\nTo get there, I call on Congress to fund ARPA-H, the Advanced Research Projects Agency for Health. \\n\\nIt’s based on DARPA—the Defense Department project that led to the Internet, GPS, and so much more.  \\n\\nARPA-H will have a singular purpose—to drive breakthroughs in cancer, Alzheimer’s, diabetes, and more. \\n\\nA unity agenda for the nation. \\n\\nWe can do this. \\n\\nMy fellow Americans—tonight , we have gathered in a sacred space—the citadel of our democracy. \\n\\nIn this Capitol, generation after generation, Americans have debated great questions amid great strife, and have done great things. \\n\\nWe have fought for freedom, expanded liberty, defeated totalitarianism and terror. \\n\\nAnd built the strongest, freest, and most prosperous nation the world has ever known. \\n\\nNow is the hour. \\n\\nOur moment of responsibility. \\n\\nOur test of resolve and conscience, of history itself. \\n\\nIt is in this moment that our character is formed. Our purpose is found. Our future is forged. \\n\\nWell I know this nation.\\nSource: 34-pl\\n=========\\nFINAL ANSWER: The president did not mention Michael Jackson.\\nSOURCES:\\n\\nQUESTION: Who is finance minister of India?\\n=========\\nContent:  Nirmala Sitharaman is the finance minister of India.\\nSource: /Users/satyamvats/Documents/ioco/poc/python/data-science-practice/app/Interim_Budget.pdf\\n\\nContent:  Nirmala Sitharaman is the finance minister of India.\\nSource: /Users/satyamvats/Documents/ioco/poc/python/data-science-practice/app/Interim_Budget.pdf\\n\\nContent:  NIRMALA SITHARAMAN MINISTER OF FINANCE\\nSource: ./Interim_Budget.pdf\\n\\nContent:  NIRMALA SITHARAMAN is the finance minister of India.\\nSource: ./Interim_Budget.pdf\\n=========\\nFINAL ANSWER:\"\n",
      "  ]\n",
      "}\n",
      "\u001b[36;1m\u001b[1;3m[llm/end]\u001b[0m \u001b[1m[chain:RetrievalQAWithSourcesChain > chain:MapReduceDocumentsChain > chain:LLMChain > llm:OpenAI] [2.03s] Exiting LLM run with output:\n",
      "\u001b[0m{\n",
      "  \"generations\": [\n",
      "    [\n",
      "      {\n",
      "        \"text\": \" Nirmala Sitharaman is the finance minister of India.\\nSOURCES: /Users/satyamvats/Documents/ioco/poc/python/data-science-practice/app/Interim_Budget.pdf, ./Interim_Budget.pdf\",\n",
      "        \"generation_info\": {\n",
      "          \"finish_reason\": \"stop\",\n",
      "          \"logprobs\": null\n",
      "        },\n",
      "        \"type\": \"Generation\"\n",
      "      }\n",
      "    ]\n",
      "  ],\n",
      "  \"llm_output\": {\n",
      "    \"token_usage\": {\n",
      "      \"prompt_tokens\": 1487,\n",
      "      \"completion_tokens\": 48,\n",
      "      \"total_tokens\": 1535\n",
      "    },\n",
      "    \"model_name\": \"gpt-3.5-turbo-instruct\"\n",
      "  },\n",
      "  \"run\": null\n",
      "}\n",
      "\u001b[36;1m\u001b[1;3m[chain/end]\u001b[0m \u001b[1m[chain:RetrievalQAWithSourcesChain > chain:MapReduceDocumentsChain > chain:LLMChain] [2.03s] Exiting Chain run with output:\n",
      "\u001b[0m{\n",
      "  \"text\": \" Nirmala Sitharaman is the finance minister of India.\\nSOURCES: /Users/satyamvats/Documents/ioco/poc/python/data-science-practice/app/Interim_Budget.pdf, ./Interim_Budget.pdf\"\n",
      "}\n",
      "\u001b[36;1m\u001b[1;3m[chain/end]\u001b[0m \u001b[1m[chain:RetrievalQAWithSourcesChain > chain:MapReduceDocumentsChain] [3.10s] Exiting Chain run with output:\n",
      "\u001b[0m{\n",
      "  \"output_text\": \" Nirmala Sitharaman is the finance minister of India.\\nSOURCES: /Users/satyamvats/Documents/ioco/poc/python/data-science-practice/app/Interim_Budget.pdf, ./Interim_Budget.pdf\"\n",
      "}\n",
      "\u001b[36;1m\u001b[1;3m[chain/end]\u001b[0m \u001b[1m[chain:RetrievalQAWithSourcesChain] [5.36s] Exiting Chain run with output:\n",
      "\u001b[0m{\n",
      "  \"answer\": \" Nirmala Sitharaman is the finance minister of India.\\n\",\n",
      "  \"sources\": \"/Users/satyamvats/Documents/ioco/poc/python/data-science-practice/app/Interim_Budget.pdf, ./Interim_Budget.pdf\"\n",
      "}\n"
     ]
    },
    {
     "data": {
      "text/plain": [
       "{'answer': ' Nirmala Sitharaman is the finance minister of India.\\n',\n",
       " 'sources': '/Users/satyamvats/Documents/ioco/poc/python/data-science-practice/app/Interim_Budget.pdf, ./Interim_Budget.pdf'}"
      ]
     },
     "execution_count": 37,
     "metadata": {},
     "output_type": "execute_result"
    }
   ],
   "source": [
    "query = \"Who is finance minister of India?\"\n",
    "\n",
    "langchain.debug=True\n",
    "\n",
    "chain({\"question\": query}, return_only_outputs=True)"
   ]
  },
  {
   "cell_type": "markdown",
   "metadata": {},
   "source": [
    "### Use conversation buffer to store the conversation history"
   ]
  },
  {
   "cell_type": "code",
   "execution_count": 38,
   "metadata": {},
   "outputs": [
    {
     "name": "stdout",
     "output_type": "stream",
     "text": [
      "The following is a friendly conversation between a human and an AI. The AI is talkative and provides lots of specific details from its context. If the AI does not know the answer to a question, it truthfully says it does not know.\n",
      "\n",
      "Current conversation:\n",
      "{history}\n",
      "Human: {input}\n",
      "AI:\n"
     ]
    }
   ],
   "source": [
    "from langchain.memory import ConversationBufferWindowMemory\n",
    "from langchain.chains import ConversationChain\n",
    "\n",
    "# Create a conversation chain with a memory of 5\n",
    "memory = ConversationBufferWindowMemory(k=5)\n",
    "\n",
    "convo = ConversationChain(\n",
    "    llm=llm,\n",
    "    memory=memory\n",
    ")\n",
    "\n",
    "print(convo.prompt.template)"
   ]
  },
  {
   "cell_type": "code",
   "execution_count": 39,
   "metadata": {},
   "outputs": [
    {
     "name": "stdout",
     "output_type": "stream",
     "text": [
      "\u001b[32;1m\u001b[1;3m[chain/start]\u001b[0m \u001b[1m[chain:ConversationChain] Entering Chain run with input:\n",
      "\u001b[0m{\n",
      "  \"input\": \"Who is finance minister of India?\",\n",
      "  \"history\": \"\"\n",
      "}\n",
      "\u001b[32;1m\u001b[1;3m[llm/start]\u001b[0m \u001b[1m[chain:ConversationChain > llm:OpenAI] Entering LLM run with input:\n",
      "\u001b[0m{\n",
      "  \"prompts\": [\n",
      "    \"The following is a friendly conversation between a human and an AI. The AI is talkative and provides lots of specific details from its context. If the AI does not know the answer to a question, it truthfully says it does not know.\\n\\nCurrent conversation:\\n\\nHuman: Who is finance minister of India?\\nAI:\"\n",
      "  ]\n",
      "}\n",
      "\u001b[36;1m\u001b[1;3m[llm/end]\u001b[0m \u001b[1m[chain:ConversationChain > llm:OpenAI] [2.05s] Exiting LLM run with output:\n",
      "\u001b[0m{\n",
      "  \"generations\": [\n",
      "    [\n",
      "      {\n",
      "        \"text\": \" The current finance minister of India is Nirmala Sitharaman. She assumed office on May 31, 2019. Prior to this, she served as the Minister of Defence and the Minister of State for Finance and Corporate Affairs in the Indian government. She is a member of the Bharatiya Janata Party and has a background in economics and management. Is there anything else you would like to know about her or the role of finance minister in India?\",\n",
      "        \"generation_info\": {\n",
      "          \"finish_reason\": \"stop\",\n",
      "          \"logprobs\": null\n",
      "        },\n",
      "        \"type\": \"Generation\"\n",
      "      }\n",
      "    ]\n",
      "  ],\n",
      "  \"llm_output\": {\n",
      "    \"token_usage\": {\n",
      "      \"prompt_tokens\": 63,\n",
      "      \"completion_tokens\": 93,\n",
      "      \"total_tokens\": 156\n",
      "    },\n",
      "    \"model_name\": \"gpt-3.5-turbo-instruct\"\n",
      "  },\n",
      "  \"run\": null\n",
      "}\n",
      "\u001b[36;1m\u001b[1;3m[chain/end]\u001b[0m \u001b[1m[chain:ConversationChain] [2.05s] Exiting Chain run with output:\n",
      "\u001b[0m{\n",
      "  \"response\": \" The current finance minister of India is Nirmala Sitharaman. She assumed office on May 31, 2019. Prior to this, she served as the Minister of Defence and the Minister of State for Finance and Corporate Affairs in the Indian government. She is a member of the Bharatiya Janata Party and has a background in economics and management. Is there anything else you would like to know about her or the role of finance minister in India?\"\n",
      "}\n"
     ]
    },
    {
     "data": {
      "text/plain": [
       "' The current finance minister of India is Nirmala Sitharaman. She assumed office on May 31, 2019. Prior to this, she served as the Minister of Defence and the Minister of State for Finance and Corporate Affairs in the Indian government. She is a member of the Bharatiya Janata Party and has a background in economics and management. Is there anything else you would like to know about her or the role of finance minister in India?'"
      ]
     },
     "execution_count": 39,
     "metadata": {},
     "output_type": "execute_result"
    }
   ],
   "source": [
    "convo.run(\"Who is finance minister of India?\")"
   ]
  },
  {
   "cell_type": "code",
   "execution_count": 40,
   "metadata": {},
   "outputs": [
    {
     "name": "stdout",
     "output_type": "stream",
     "text": [
      "\u001b[32;1m\u001b[1;3m[chain/start]\u001b[0m \u001b[1m[chain:ConversationChain] Entering Chain run with input:\n",
      "\u001b[0m{\n",
      "  \"input\": \"What is the budget of India?\",\n",
      "  \"history\": \"Human: Who is finance minister of India?\\nAI:  The current finance minister of India is Nirmala Sitharaman. She assumed office on May 31, 2019. Prior to this, she served as the Minister of Defence and the Minister of State for Finance and Corporate Affairs in the Indian government. She is a member of the Bharatiya Janata Party and has a background in economics and management. Is there anything else you would like to know about her or the role of finance minister in India?\"\n",
      "}\n",
      "\u001b[32;1m\u001b[1;3m[llm/start]\u001b[0m \u001b[1m[chain:ConversationChain > llm:OpenAI] Entering LLM run with input:\n",
      "\u001b[0m{\n",
      "  \"prompts\": [\n",
      "    \"The following is a friendly conversation between a human and an AI. The AI is talkative and provides lots of specific details from its context. If the AI does not know the answer to a question, it truthfully says it does not know.\\n\\nCurrent conversation:\\nHuman: Who is finance minister of India?\\nAI:  The current finance minister of India is Nirmala Sitharaman. She assumed office on May 31, 2019. Prior to this, she served as the Minister of Defence and the Minister of State for Finance and Corporate Affairs in the Indian government. She is a member of the Bharatiya Janata Party and has a background in economics and management. Is there anything else you would like to know about her or the role of finance minister in India?\\nHuman: What is the budget of India?\\nAI:\"\n",
      "  ]\n",
      "}\n",
      "\u001b[36;1m\u001b[1;3m[llm/end]\u001b[0m \u001b[1m[chain:ConversationChain > llm:OpenAI] [2.08s] Exiting LLM run with output:\n",
      "\u001b[0m{\n",
      "  \"generations\": [\n",
      "    [\n",
      "      {\n",
      "        \"text\": \" As of 2021, the budget of India is approximately 34.83 lakh crore rupees. This includes both the central and state budgets. The budget is allocated towards various sectors such as defense, education, healthcare, and infrastructure. The finance minister is responsible for presenting and managing the budget, which is approved by the Indian Parliament. Is there anything else you would like to know about the budget of India?\",\n",
      "        \"generation_info\": {\n",
      "          \"finish_reason\": \"stop\",\n",
      "          \"logprobs\": null\n",
      "        },\n",
      "        \"type\": \"Generation\"\n",
      "      }\n",
      "    ]\n",
      "  ],\n",
      "  \"llm_output\": {\n",
      "    \"token_usage\": {\n",
      "      \"prompt_tokens\": 168,\n",
      "      \"completion_tokens\": 83,\n",
      "      \"total_tokens\": 251\n",
      "    },\n",
      "    \"model_name\": \"gpt-3.5-turbo-instruct\"\n",
      "  },\n",
      "  \"run\": null\n",
      "}\n",
      "\u001b[36;1m\u001b[1;3m[chain/end]\u001b[0m \u001b[1m[chain:ConversationChain] [2.08s] Exiting Chain run with output:\n",
      "\u001b[0m{\n",
      "  \"response\": \" As of 2021, the budget of India is approximately 34.83 lakh crore rupees. This includes both the central and state budgets. The budget is allocated towards various sectors such as defense, education, healthcare, and infrastructure. The finance minister is responsible for presenting and managing the budget, which is approved by the Indian Parliament. Is there anything else you would like to know about the budget of India?\"\n",
      "}\n"
     ]
    },
    {
     "data": {
      "text/plain": [
       "' As of 2021, the budget of India is approximately 34.83 lakh crore rupees. This includes both the central and state budgets. The budget is allocated towards various sectors such as defense, education, healthcare, and infrastructure. The finance minister is responsible for presenting and managing the budget, which is approved by the Indian Parliament. Is there anything else you would like to know about the budget of India?'"
      ]
     },
     "execution_count": 40,
     "metadata": {},
     "output_type": "execute_result"
    }
   ],
   "source": [
    "convo.run(\"What is the budget of India?\")"
   ]
  },
  {
   "cell_type": "code",
   "execution_count": 41,
   "metadata": {},
   "outputs": [
    {
     "name": "stdout",
     "output_type": "stream",
     "text": [
      "\u001b[32;1m\u001b[1;3m[chain/start]\u001b[0m \u001b[1m[chain:ConversationChain] Entering Chain run with input:\n",
      "\u001b[0m{\n",
      "  \"input\": \"When is Interim Budget is passed year 2021?\",\n",
      "  \"history\": \"Human: Who is finance minister of India?\\nAI:  The current finance minister of India is Nirmala Sitharaman. She assumed office on May 31, 2019. Prior to this, she served as the Minister of Defence and the Minister of State for Finance and Corporate Affairs in the Indian government. She is a member of the Bharatiya Janata Party and has a background in economics and management. Is there anything else you would like to know about her or the role of finance minister in India?\\nHuman: What is the budget of India?\\nAI:  As of 2021, the budget of India is approximately 34.83 lakh crore rupees. This includes both the central and state budgets. The budget is allocated towards various sectors such as defense, education, healthcare, and infrastructure. The finance minister is responsible for presenting and managing the budget, which is approved by the Indian Parliament. Is there anything else you would like to know about the budget of India?\"\n",
      "}\n",
      "\u001b[32;1m\u001b[1;3m[llm/start]\u001b[0m \u001b[1m[chain:ConversationChain > llm:OpenAI] Entering LLM run with input:\n",
      "\u001b[0m{\n",
      "  \"prompts\": [\n",
      "    \"The following is a friendly conversation between a human and an AI. The AI is talkative and provides lots of specific details from its context. If the AI does not know the answer to a question, it truthfully says it does not know.\\n\\nCurrent conversation:\\nHuman: Who is finance minister of India?\\nAI:  The current finance minister of India is Nirmala Sitharaman. She assumed office on May 31, 2019. Prior to this, she served as the Minister of Defence and the Minister of State for Finance and Corporate Affairs in the Indian government. She is a member of the Bharatiya Janata Party and has a background in economics and management. Is there anything else you would like to know about her or the role of finance minister in India?\\nHuman: What is the budget of India?\\nAI:  As of 2021, the budget of India is approximately 34.83 lakh crore rupees. This includes both the central and state budgets. The budget is allocated towards various sectors such as defense, education, healthcare, and infrastructure. The finance minister is responsible for presenting and managing the budget, which is approved by the Indian Parliament. Is there anything else you would like to know about the budget of India?\\nHuman: When is Interim Budget is passed year 2021?\\nAI:\"\n",
      "  ]\n",
      "}\n",
      "\u001b[36;1m\u001b[1;3m[llm/end]\u001b[0m \u001b[1m[chain:ConversationChain > llm:OpenAI] [2.21s] Exiting LLM run with output:\n",
      "\u001b[0m{\n",
      "  \"generations\": [\n",
      "    [\n",
      "      {\n",
      "        \"text\": \" The Interim Budget for 2021 was passed on February 1, 2021. This is a temporary budget that is passed before the general elections, to keep the government functioning until a new budget is presented by the new government. It is also known as a vote on account and only covers essential expenses for a short period of time. Is there anything else you would like to know about the Interim Budget?\",\n",
      "        \"generation_info\": {\n",
      "          \"finish_reason\": \"stop\",\n",
      "          \"logprobs\": null\n",
      "        },\n",
      "        \"type\": \"Generation\"\n",
      "      }\n",
      "    ]\n",
      "  ],\n",
      "  \"llm_output\": {\n",
      "    \"token_usage\": {\n",
      "      \"prompt_tokens\": 268,\n",
      "      \"completion_tokens\": 84,\n",
      "      \"total_tokens\": 352\n",
      "    },\n",
      "    \"model_name\": \"gpt-3.5-turbo-instruct\"\n",
      "  },\n",
      "  \"run\": null\n",
      "}\n",
      "\u001b[36;1m\u001b[1;3m[chain/end]\u001b[0m \u001b[1m[chain:ConversationChain] [2.21s] Exiting Chain run with output:\n",
      "\u001b[0m{\n",
      "  \"response\": \" The Interim Budget for 2021 was passed on February 1, 2021. This is a temporary budget that is passed before the general elections, to keep the government functioning until a new budget is presented by the new government. It is also known as a vote on account and only covers essential expenses for a short period of time. Is there anything else you would like to know about the Interim Budget?\"\n",
      "}\n"
     ]
    },
    {
     "data": {
      "text/plain": [
       "' The Interim Budget for 2021 was passed on February 1, 2021. This is a temporary budget that is passed before the general elections, to keep the government functioning until a new budget is presented by the new government. It is also known as a vote on account and only covers essential expenses for a short period of time. Is there anything else you would like to know about the Interim Budget?'"
      ]
     },
     "execution_count": 41,
     "metadata": {},
     "output_type": "execute_result"
    }
   ],
   "source": [
    "convo.run(\"When is Interim Budget is passed year 2021?\")"
   ]
  },
  {
   "cell_type": "code",
   "execution_count": 42,
   "metadata": {},
   "outputs": [
    {
     "name": "stdout",
     "output_type": "stream",
     "text": [
      "\u001b[32;1m\u001b[1;3m[chain/start]\u001b[0m \u001b[1m[chain:ConversationChain] Entering Chain run with input:\n",
      "\u001b[0m{\n",
      "  \"input\": \"How mush Direct Benefit Transfer from the Government using PM-Jan Dhan accounts?\",\n",
      "  \"history\": \"Human: Who is finance minister of India?\\nAI:  The current finance minister of India is Nirmala Sitharaman. She assumed office on May 31, 2019. Prior to this, she served as the Minister of Defence and the Minister of State for Finance and Corporate Affairs in the Indian government. She is a member of the Bharatiya Janata Party and has a background in economics and management. Is there anything else you would like to know about her or the role of finance minister in India?\\nHuman: What is the budget of India?\\nAI:  As of 2021, the budget of India is approximately 34.83 lakh crore rupees. This includes both the central and state budgets. The budget is allocated towards various sectors such as defense, education, healthcare, and infrastructure. The finance minister is responsible for presenting and managing the budget, which is approved by the Indian Parliament. Is there anything else you would like to know about the budget of India?\\nHuman: When is Interim Budget is passed year 2021?\\nAI:  The Interim Budget for 2021 was passed on February 1, 2021. This is a temporary budget that is passed before the general elections, to keep the government functioning until a new budget is presented by the new government. It is also known as a vote on account and only covers essential expenses for a short period of time. Is there anything else you would like to know about the Interim Budget?\"\n",
      "}\n",
      "\u001b[32;1m\u001b[1;3m[llm/start]\u001b[0m \u001b[1m[chain:ConversationChain > llm:OpenAI] Entering LLM run with input:\n",
      "\u001b[0m{\n",
      "  \"prompts\": [\n",
      "    \"The following is a friendly conversation between a human and an AI. The AI is talkative and provides lots of specific details from its context. If the AI does not know the answer to a question, it truthfully says it does not know.\\n\\nCurrent conversation:\\nHuman: Who is finance minister of India?\\nAI:  The current finance minister of India is Nirmala Sitharaman. She assumed office on May 31, 2019. Prior to this, she served as the Minister of Defence and the Minister of State for Finance and Corporate Affairs in the Indian government. She is a member of the Bharatiya Janata Party and has a background in economics and management. Is there anything else you would like to know about her or the role of finance minister in India?\\nHuman: What is the budget of India?\\nAI:  As of 2021, the budget of India is approximately 34.83 lakh crore rupees. This includes both the central and state budgets. The budget is allocated towards various sectors such as defense, education, healthcare, and infrastructure. The finance minister is responsible for presenting and managing the budget, which is approved by the Indian Parliament. Is there anything else you would like to know about the budget of India?\\nHuman: When is Interim Budget is passed year 2021?\\nAI:  The Interim Budget for 2021 was passed on February 1, 2021. This is a temporary budget that is passed before the general elections, to keep the government functioning until a new budget is presented by the new government. It is also known as a vote on account and only covers essential expenses for a short period of time. Is there anything else you would like to know about the Interim Budget?\\nHuman: How mush Direct Benefit Transfer from the Government using PM-Jan Dhan accounts?\\nAI:\"\n",
      "  ]\n",
      "}\n",
      "\u001b[36;1m\u001b[1;3m[llm/end]\u001b[0m \u001b[1m[chain:ConversationChain > llm:OpenAI] [2.55s] Exiting LLM run with output:\n",
      "\u001b[0m{\n",
      "  \"generations\": [\n",
      "    [\n",
      "      {\n",
      "        \"text\": \" As of March 2021, the total amount transferred through Direct Benefit Transfer from the Government using PM-Jan Dhan accounts is approximately 3.79 lakh crore rupees. This scheme was launched in 2014 by the Indian government to transfer subsidies and other benefits directly to the beneficiaries through their Jan Dhan accounts. It has been successful in reducing corruption and ensuring efficient delivery of government aid. Is there anything else you would like to know about this scheme or the amount transferred through it?\",\n",
      "        \"generation_info\": {\n",
      "          \"finish_reason\": \"stop\",\n",
      "          \"logprobs\": null\n",
      "        },\n",
      "        \"type\": \"Generation\"\n",
      "      }\n",
      "    ]\n",
      "  ],\n",
      "  \"llm_output\": {\n",
      "    \"token_usage\": {\n",
      "      \"prompt_tokens\": 372,\n",
      "      \"completion_tokens\": 98,\n",
      "      \"total_tokens\": 470\n",
      "    },\n",
      "    \"model_name\": \"gpt-3.5-turbo-instruct\"\n",
      "  },\n",
      "  \"run\": null\n",
      "}\n",
      "\u001b[36;1m\u001b[1;3m[chain/end]\u001b[0m \u001b[1m[chain:ConversationChain] [2.55s] Exiting Chain run with output:\n",
      "\u001b[0m{\n",
      "  \"response\": \" As of March 2021, the total amount transferred through Direct Benefit Transfer from the Government using PM-Jan Dhan accounts is approximately 3.79 lakh crore rupees. This scheme was launched in 2014 by the Indian government to transfer subsidies and other benefits directly to the beneficiaries through their Jan Dhan accounts. It has been successful in reducing corruption and ensuring efficient delivery of government aid. Is there anything else you would like to know about this scheme or the amount transferred through it?\"\n",
      "}\n"
     ]
    },
    {
     "data": {
      "text/plain": [
       "' As of March 2021, the total amount transferred through Direct Benefit Transfer from the Government using PM-Jan Dhan accounts is approximately 3.79 lakh crore rupees. This scheme was launched in 2014 by the Indian government to transfer subsidies and other benefits directly to the beneficiaries through their Jan Dhan accounts. It has been successful in reducing corruption and ensuring efficient delivery of government aid. Is there anything else you would like to know about this scheme or the amount transferred through it?'"
      ]
     },
     "execution_count": 42,
     "metadata": {},
     "output_type": "execute_result"
    }
   ],
   "source": [
    "convo.run(\"How mush Direct Benefit Transfer from the Government using PM-Jan Dhan accounts?\")"
   ]
  },
  {
   "cell_type": "code",
   "execution_count": 43,
   "metadata": {},
   "outputs": [
    {
     "name": "stdout",
     "output_type": "stream",
     "text": [
      "\u001b[32;1m\u001b[1;3m[chain/start]\u001b[0m \u001b[1m[chain:ConversationChain] Entering Chain run with input:\n",
      "\u001b[0m{\n",
      "  \"input\": \"How many farmers get direct financial assistance under PM-KISAN SAMMAN Yojana?\",\n",
      "  \"history\": \"Human: Who is finance minister of India?\\nAI:  The current finance minister of India is Nirmala Sitharaman. She assumed office on May 31, 2019. Prior to this, she served as the Minister of Defence and the Minister of State for Finance and Corporate Affairs in the Indian government. She is a member of the Bharatiya Janata Party and has a background in economics and management. Is there anything else you would like to know about her or the role of finance minister in India?\\nHuman: What is the budget of India?\\nAI:  As of 2021, the budget of India is approximately 34.83 lakh crore rupees. This includes both the central and state budgets. The budget is allocated towards various sectors such as defense, education, healthcare, and infrastructure. The finance minister is responsible for presenting and managing the budget, which is approved by the Indian Parliament. Is there anything else you would like to know about the budget of India?\\nHuman: When is Interim Budget is passed year 2021?\\nAI:  The Interim Budget for 2021 was passed on February 1, 2021. This is a temporary budget that is passed before the general elections, to keep the government functioning until a new budget is presented by the new government. It is also known as a vote on account and only covers essential expenses for a short period of time. Is there anything else you would like to know about the Interim Budget?\\nHuman: How mush Direct Benefit Transfer from the Government using PM-Jan Dhan accounts?\\nAI:  As of March 2021, the total amount transferred through Direct Benefit Transfer from the Government using PM-Jan Dhan accounts is approximately 3.79 lakh crore rupees. This scheme was launched in 2014 by the Indian government to transfer subsidies and other benefits directly to the beneficiaries through their Jan Dhan accounts. It has been successful in reducing corruption and ensuring efficient delivery of government aid. Is there anything else you would like to know about this scheme or the amount transferred through it?\"\n",
      "}\n",
      "\u001b[32;1m\u001b[1;3m[llm/start]\u001b[0m \u001b[1m[chain:ConversationChain > llm:OpenAI] Entering LLM run with input:\n",
      "\u001b[0m{\n",
      "  \"prompts\": [\n",
      "    \"The following is a friendly conversation between a human and an AI. The AI is talkative and provides lots of specific details from its context. If the AI does not know the answer to a question, it truthfully says it does not know.\\n\\nCurrent conversation:\\nHuman: Who is finance minister of India?\\nAI:  The current finance minister of India is Nirmala Sitharaman. She assumed office on May 31, 2019. Prior to this, she served as the Minister of Defence and the Minister of State for Finance and Corporate Affairs in the Indian government. She is a member of the Bharatiya Janata Party and has a background in economics and management. Is there anything else you would like to know about her or the role of finance minister in India?\\nHuman: What is the budget of India?\\nAI:  As of 2021, the budget of India is approximately 34.83 lakh crore rupees. This includes both the central and state budgets. The budget is allocated towards various sectors such as defense, education, healthcare, and infrastructure. The finance minister is responsible for presenting and managing the budget, which is approved by the Indian Parliament. Is there anything else you would like to know about the budget of India?\\nHuman: When is Interim Budget is passed year 2021?\\nAI:  The Interim Budget for 2021 was passed on February 1, 2021. This is a temporary budget that is passed before the general elections, to keep the government functioning until a new budget is presented by the new government. It is also known as a vote on account and only covers essential expenses for a short period of time. Is there anything else you would like to know about the Interim Budget?\\nHuman: How mush Direct Benefit Transfer from the Government using PM-Jan Dhan accounts?\\nAI:  As of March 2021, the total amount transferred through Direct Benefit Transfer from the Government using PM-Jan Dhan accounts is approximately 3.79 lakh crore rupees. This scheme was launched in 2014 by the Indian government to transfer subsidies and other benefits directly to the beneficiaries through their Jan Dhan accounts. It has been successful in reducing corruption and ensuring efficient delivery of government aid. Is there anything else you would like to know about this scheme or the amount transferred through it?\\nHuman: How many farmers get direct financial assistance under PM-KISAN SAMMAN Yojana?\\nAI:\"\n",
      "  ]\n",
      "}\n",
      "\u001b[36;1m\u001b[1;3m[llm/end]\u001b[0m \u001b[1m[chain:ConversationChain > llm:OpenAI] [2.76s] Exiting LLM run with output:\n",
      "\u001b[0m{\n",
      "  \"generations\": [\n",
      "    [\n",
      "      {\n",
      "        \"text\": \" As of March 2021, approximately 11.43 crore farmers have received direct financial assistance under the PM-KISAN SAMMAN Yojana. This scheme was launched in 2018 to provide income support to small and marginal farmers by transferring 6000 rupees per year directly to their bank accounts. The amount is given in three installments and has been beneficial for farmers across the country. Is there anything else you would like to know about this scheme or the number of farmers who have received assistance through it?\",\n",
      "        \"generation_info\": {\n",
      "          \"finish_reason\": \"stop\",\n",
      "          \"logprobs\": null\n",
      "        },\n",
      "        \"type\": \"Generation\"\n",
      "      }\n",
      "    ]\n",
      "  ],\n",
      "  \"llm_output\": {\n",
      "    \"token_usage\": {\n",
      "      \"prompt_tokens\": 493,\n",
      "      \"completion_tokens\": 105,\n",
      "      \"total_tokens\": 598\n",
      "    },\n",
      "    \"model_name\": \"gpt-3.5-turbo-instruct\"\n",
      "  },\n",
      "  \"run\": null\n",
      "}\n",
      "\u001b[36;1m\u001b[1;3m[chain/end]\u001b[0m \u001b[1m[chain:ConversationChain] [2.76s] Exiting Chain run with output:\n",
      "\u001b[0m{\n",
      "  \"response\": \" As of March 2021, approximately 11.43 crore farmers have received direct financial assistance under the PM-KISAN SAMMAN Yojana. This scheme was launched in 2018 to provide income support to small and marginal farmers by transferring 6000 rupees per year directly to their bank accounts. The amount is given in three installments and has been beneficial for farmers across the country. Is there anything else you would like to know about this scheme or the number of farmers who have received assistance through it?\"\n",
      "}\n"
     ]
    },
    {
     "data": {
      "text/plain": [
       "' As of March 2021, approximately 11.43 crore farmers have received direct financial assistance under the PM-KISAN SAMMAN Yojana. This scheme was launched in 2018 to provide income support to small and marginal farmers by transferring 6000 rupees per year directly to their bank accounts. The amount is given in three installments and has been beneficial for farmers across the country. Is there anything else you would like to know about this scheme or the number of farmers who have received assistance through it?'"
      ]
     },
     "execution_count": 43,
     "metadata": {},
     "output_type": "execute_result"
    }
   ],
   "source": [
    "convo.run(\"How many farmers get direct financial assistance under PM-KISAN SAMMAN Yojana?\")"
   ]
  },
  {
   "cell_type": "code",
   "execution_count": 44,
   "metadata": {},
   "outputs": [
    {
     "name": "stdout",
     "output_type": "stream",
     "text": [
      "\u001b[32;1m\u001b[1;3m[chain/start]\u001b[0m \u001b[1m[chain:ConversationChain] Entering Chain run with input:\n",
      "\u001b[0m{\n",
      "  \"input\": \"How many yuths are trained under 'The Skill India Mission'?\",\n",
      "  \"history\": \"Human: Who is finance minister of India?\\nAI:  The current finance minister of India is Nirmala Sitharaman. She assumed office on May 31, 2019. Prior to this, she served as the Minister of Defence and the Minister of State for Finance and Corporate Affairs in the Indian government. She is a member of the Bharatiya Janata Party and has a background in economics and management. Is there anything else you would like to know about her or the role of finance minister in India?\\nHuman: What is the budget of India?\\nAI:  As of 2021, the budget of India is approximately 34.83 lakh crore rupees. This includes both the central and state budgets. The budget is allocated towards various sectors such as defense, education, healthcare, and infrastructure. The finance minister is responsible for presenting and managing the budget, which is approved by the Indian Parliament. Is there anything else you would like to know about the budget of India?\\nHuman: When is Interim Budget is passed year 2021?\\nAI:  The Interim Budget for 2021 was passed on February 1, 2021. This is a temporary budget that is passed before the general elections, to keep the government functioning until a new budget is presented by the new government. It is also known as a vote on account and only covers essential expenses for a short period of time. Is there anything else you would like to know about the Interim Budget?\\nHuman: How mush Direct Benefit Transfer from the Government using PM-Jan Dhan accounts?\\nAI:  As of March 2021, the total amount transferred through Direct Benefit Transfer from the Government using PM-Jan Dhan accounts is approximately 3.79 lakh crore rupees. This scheme was launched in 2014 by the Indian government to transfer subsidies and other benefits directly to the beneficiaries through their Jan Dhan accounts. It has been successful in reducing corruption and ensuring efficient delivery of government aid. Is there anything else you would like to know about this scheme or the amount transferred through it?\\nHuman: How many farmers get direct financial assistance under PM-KISAN SAMMAN Yojana?\\nAI:  As of March 2021, approximately 11.43 crore farmers have received direct financial assistance under the PM-KISAN SAMMAN Yojana. This scheme was launched in 2018 to provide income support to small and marginal farmers by transferring 6000 rupees per year directly to their bank accounts. The amount is given in three installments and has been beneficial for farmers across the country. Is there anything else you would like to know about this scheme or the number of farmers who have received assistance through it?\"\n",
      "}\n",
      "\u001b[32;1m\u001b[1;3m[llm/start]\u001b[0m \u001b[1m[chain:ConversationChain > llm:OpenAI] Entering LLM run with input:\n",
      "\u001b[0m{\n",
      "  \"prompts\": [\n",
      "    \"The following is a friendly conversation between a human and an AI. The AI is talkative and provides lots of specific details from its context. If the AI does not know the answer to a question, it truthfully says it does not know.\\n\\nCurrent conversation:\\nHuman: Who is finance minister of India?\\nAI:  The current finance minister of India is Nirmala Sitharaman. She assumed office on May 31, 2019. Prior to this, she served as the Minister of Defence and the Minister of State for Finance and Corporate Affairs in the Indian government. She is a member of the Bharatiya Janata Party and has a background in economics and management. Is there anything else you would like to know about her or the role of finance minister in India?\\nHuman: What is the budget of India?\\nAI:  As of 2021, the budget of India is approximately 34.83 lakh crore rupees. This includes both the central and state budgets. The budget is allocated towards various sectors such as defense, education, healthcare, and infrastructure. The finance minister is responsible for presenting and managing the budget, which is approved by the Indian Parliament. Is there anything else you would like to know about the budget of India?\\nHuman: When is Interim Budget is passed year 2021?\\nAI:  The Interim Budget for 2021 was passed on February 1, 2021. This is a temporary budget that is passed before the general elections, to keep the government functioning until a new budget is presented by the new government. It is also known as a vote on account and only covers essential expenses for a short period of time. Is there anything else you would like to know about the Interim Budget?\\nHuman: How mush Direct Benefit Transfer from the Government using PM-Jan Dhan accounts?\\nAI:  As of March 2021, the total amount transferred through Direct Benefit Transfer from the Government using PM-Jan Dhan accounts is approximately 3.79 lakh crore rupees. This scheme was launched in 2014 by the Indian government to transfer subsidies and other benefits directly to the beneficiaries through their Jan Dhan accounts. It has been successful in reducing corruption and ensuring efficient delivery of government aid. Is there anything else you would like to know about this scheme or the amount transferred through it?\\nHuman: How many farmers get direct financial assistance under PM-KISAN SAMMAN Yojana?\\nAI:  As of March 2021, approximately 11.43 crore farmers have received direct financial assistance under the PM-KISAN SAMMAN Yojana. This scheme was launched in 2018 to provide income support to small and marginal farmers by transferring 6000 rupees per year directly to their bank accounts. The amount is given in three installments and has been beneficial for farmers across the country. Is there anything else you would like to know about this scheme or the number of farmers who have received assistance through it?\\nHuman: How many yuths are trained under 'The Skill India Mission'?\\nAI:\"\n",
      "  ]\n",
      "}\n",
      "\u001b[36;1m\u001b[1;3m[llm/end]\u001b[0m \u001b[1m[chain:ConversationChain > llm:OpenAI] [2.83s] Exiting LLM run with output:\n",
      "\u001b[0m{\n",
      "  \"generations\": [\n",
      "    [\n",
      "      {\n",
      "        \"text\": \"  As of March 2021, approximately 1.13 crore youth have been trained under 'The Skill India Mission'. This initiative was launched in 2015 to provide skill training to the youth of India and enhance their employability. The program offers training in various sectors such as construction, retail, healthcare, and hospitality, among others. It has been successful in improving the skillset of the Indian workforce and promoting job opportunities. Is there anything else you would like to know about this mission or the number of youth trained under it?\",\n",
      "        \"generation_info\": {\n",
      "          \"finish_reason\": \"stop\",\n",
      "          \"logprobs\": null\n",
      "        },\n",
      "        \"type\": \"Generation\"\n",
      "      }\n",
      "    ]\n",
      "  ],\n",
      "  \"llm_output\": {\n",
      "    \"token_usage\": {\n",
      "      \"prompt_tokens\": 618,\n",
      "      \"completion_tokens\": 108,\n",
      "      \"total_tokens\": 726\n",
      "    },\n",
      "    \"model_name\": \"gpt-3.5-turbo-instruct\"\n",
      "  },\n",
      "  \"run\": null\n",
      "}\n",
      "\u001b[36;1m\u001b[1;3m[chain/end]\u001b[0m \u001b[1m[chain:ConversationChain] [2.83s] Exiting Chain run with output:\n",
      "\u001b[0m{\n",
      "  \"response\": \"  As of March 2021, approximately 1.13 crore youth have been trained under 'The Skill India Mission'. This initiative was launched in 2015 to provide skill training to the youth of India and enhance their employability. The program offers training in various sectors such as construction, retail, healthcare, and hospitality, among others. It has been successful in improving the skillset of the Indian workforce and promoting job opportunities. Is there anything else you would like to know about this mission or the number of youth trained under it?\"\n",
      "}\n"
     ]
    },
    {
     "data": {
      "text/plain": [
       "\"  As of March 2021, approximately 1.13 crore youth have been trained under 'The Skill India Mission'. This initiative was launched in 2015 to provide skill training to the youth of India and enhance their employability. The program offers training in various sectors such as construction, retail, healthcare, and hospitality, among others. It has been successful in improving the skillset of the Indian workforce and promoting job opportunities. Is there anything else you would like to know about this mission or the number of youth trained under it?\""
      ]
     },
     "execution_count": 44,
     "metadata": {},
     "output_type": "execute_result"
    }
   ],
   "source": [
    "convo.run(\"How many yuths are trained under 'The Skill India Mission'?\")"
   ]
  },
  {
   "cell_type": "code",
   "execution_count": 45,
   "metadata": {},
   "outputs": [
    {
     "name": "stdout",
     "output_type": "stream",
     "text": [
      "Human: What is the budget of India?\n",
      "AI:  As of 2021, the budget of India is approximately 34.83 lakh crore rupees. This includes both the central and state budgets. The budget is allocated towards various sectors such as defense, education, healthcare, and infrastructure. The finance minister is responsible for presenting and managing the budget, which is approved by the Indian Parliament. Is there anything else you would like to know about the budget of India?\n",
      "Human: When is Interim Budget is passed year 2021?\n",
      "AI:  The Interim Budget for 2021 was passed on February 1, 2021. This is a temporary budget that is passed before the general elections, to keep the government functioning until a new budget is presented by the new government. It is also known as a vote on account and only covers essential expenses for a short period of time. Is there anything else you would like to know about the Interim Budget?\n",
      "Human: How mush Direct Benefit Transfer from the Government using PM-Jan Dhan accounts?\n",
      "AI:  As of March 2021, the total amount transferred through Direct Benefit Transfer from the Government using PM-Jan Dhan accounts is approximately 3.79 lakh crore rupees. This scheme was launched in 2014 by the Indian government to transfer subsidies and other benefits directly to the beneficiaries through their Jan Dhan accounts. It has been successful in reducing corruption and ensuring efficient delivery of government aid. Is there anything else you would like to know about this scheme or the amount transferred through it?\n",
      "Human: How many farmers get direct financial assistance under PM-KISAN SAMMAN Yojana?\n",
      "AI:  As of March 2021, approximately 11.43 crore farmers have received direct financial assistance under the PM-KISAN SAMMAN Yojana. This scheme was launched in 2018 to provide income support to small and marginal farmers by transferring 6000 rupees per year directly to their bank accounts. The amount is given in three installments and has been beneficial for farmers across the country. Is there anything else you would like to know about this scheme or the number of farmers who have received assistance through it?\n",
      "Human: How many yuths are trained under 'The Skill India Mission'?\n",
      "AI:   As of March 2021, approximately 1.13 crore youth have been trained under 'The Skill India Mission'. This initiative was launched in 2015 to provide skill training to the youth of India and enhance their employability. The program offers training in various sectors such as construction, retail, healthcare, and hospitality, among others. It has been successful in improving the skillset of the Indian workforce and promoting job opportunities. Is there anything else you would like to know about this mission or the number of youth trained under it?\n"
     ]
    }
   ],
   "source": [
    "print(convo.memory.buffer)"
   ]
  },
  {
   "cell_type": "code",
   "execution_count": 46,
   "metadata": {},
   "outputs": [
    {
     "name": "stdout",
     "output_type": "stream",
     "text": [
      "\u001b[32;1m\u001b[1;3m[chain/start]\u001b[0m \u001b[1m[chain:ConversationChain] Entering Chain run with input:\n",
      "\u001b[0m{\n",
      "  \"input\": \"How Much Loan is sanctioned under PM Mudra Yojana for entrepreneurial aspirations of youths?\",\n",
      "  \"history\": \"Human: What is the budget of India?\\nAI:  As of 2021, the budget of India is approximately 34.83 lakh crore rupees. This includes both the central and state budgets. The budget is allocated towards various sectors such as defense, education, healthcare, and infrastructure. The finance minister is responsible for presenting and managing the budget, which is approved by the Indian Parliament. Is there anything else you would like to know about the budget of India?\\nHuman: When is Interim Budget is passed year 2021?\\nAI:  The Interim Budget for 2021 was passed on February 1, 2021. This is a temporary budget that is passed before the general elections, to keep the government functioning until a new budget is presented by the new government. It is also known as a vote on account and only covers essential expenses for a short period of time. Is there anything else you would like to know about the Interim Budget?\\nHuman: How mush Direct Benefit Transfer from the Government using PM-Jan Dhan accounts?\\nAI:  As of March 2021, the total amount transferred through Direct Benefit Transfer from the Government using PM-Jan Dhan accounts is approximately 3.79 lakh crore rupees. This scheme was launched in 2014 by the Indian government to transfer subsidies and other benefits directly to the beneficiaries through their Jan Dhan accounts. It has been successful in reducing corruption and ensuring efficient delivery of government aid. Is there anything else you would like to know about this scheme or the amount transferred through it?\\nHuman: How many farmers get direct financial assistance under PM-KISAN SAMMAN Yojana?\\nAI:  As of March 2021, approximately 11.43 crore farmers have received direct financial assistance under the PM-KISAN SAMMAN Yojana. This scheme was launched in 2018 to provide income support to small and marginal farmers by transferring 6000 rupees per year directly to their bank accounts. The amount is given in three installments and has been beneficial for farmers across the country. Is there anything else you would like to know about this scheme or the number of farmers who have received assistance through it?\\nHuman: How many yuths are trained under 'The Skill India Mission'?\\nAI:   As of March 2021, approximately 1.13 crore youth have been trained under 'The Skill India Mission'. This initiative was launched in 2015 to provide skill training to the youth of India and enhance their employability. The program offers training in various sectors such as construction, retail, healthcare, and hospitality, among others. It has been successful in improving the skillset of the Indian workforce and promoting job opportunities. Is there anything else you would like to know about this mission or the number of youth trained under it?\"\n",
      "}\n",
      "\u001b[32;1m\u001b[1;3m[llm/start]\u001b[0m \u001b[1m[chain:ConversationChain > llm:OpenAI] Entering LLM run with input:\n",
      "\u001b[0m{\n",
      "  \"prompts\": [\n",
      "    \"The following is a friendly conversation between a human and an AI. The AI is talkative and provides lots of specific details from its context. If the AI does not know the answer to a question, it truthfully says it does not know.\\n\\nCurrent conversation:\\nHuman: What is the budget of India?\\nAI:  As of 2021, the budget of India is approximately 34.83 lakh crore rupees. This includes both the central and state budgets. The budget is allocated towards various sectors such as defense, education, healthcare, and infrastructure. The finance minister is responsible for presenting and managing the budget, which is approved by the Indian Parliament. Is there anything else you would like to know about the budget of India?\\nHuman: When is Interim Budget is passed year 2021?\\nAI:  The Interim Budget for 2021 was passed on February 1, 2021. This is a temporary budget that is passed before the general elections, to keep the government functioning until a new budget is presented by the new government. It is also known as a vote on account and only covers essential expenses for a short period of time. Is there anything else you would like to know about the Interim Budget?\\nHuman: How mush Direct Benefit Transfer from the Government using PM-Jan Dhan accounts?\\nAI:  As of March 2021, the total amount transferred through Direct Benefit Transfer from the Government using PM-Jan Dhan accounts is approximately 3.79 lakh crore rupees. This scheme was launched in 2014 by the Indian government to transfer subsidies and other benefits directly to the beneficiaries through their Jan Dhan accounts. It has been successful in reducing corruption and ensuring efficient delivery of government aid. Is there anything else you would like to know about this scheme or the amount transferred through it?\\nHuman: How many farmers get direct financial assistance under PM-KISAN SAMMAN Yojana?\\nAI:  As of March 2021, approximately 11.43 crore farmers have received direct financial assistance under the PM-KISAN SAMMAN Yojana. This scheme was launched in 2018 to provide income support to small and marginal farmers by transferring 6000 rupees per year directly to their bank accounts. The amount is given in three installments and has been beneficial for farmers across the country. Is there anything else you would like to know about this scheme or the number of farmers who have received assistance through it?\\nHuman: How many yuths are trained under 'The Skill India Mission'?\\nAI:   As of March 2021, approximately 1.13 crore youth have been trained under 'The Skill India Mission'. This initiative was launched in 2015 to provide skill training to the youth of India and enhance their employability. The program offers training in various sectors such as construction, retail, healthcare, and hospitality, among others. It has been successful in improving the skillset of the Indian workforce and promoting job opportunities. Is there anything else you would like to know about this mission or the number of youth trained under it?\\nHuman: How Much Loan is sanctioned under PM Mudra Yojana for entrepreneurial aspirations of youths?\\nAI:\"\n",
      "  ]\n",
      "}\n",
      "\u001b[36;1m\u001b[1;3m[llm/end]\u001b[0m \u001b[1m[chain:ConversationChain > llm:OpenAI] [2.49s] Exiting LLM run with output:\n",
      "\u001b[0m{\n",
      "  \"generations\": [\n",
      "    [\n",
      "      {\n",
      "        \"text\": \" As of March 2021, approximately 28.68 lakh crore rupees have been sanctioned under PM Mudra Yojana for the entrepreneurial aspirations of youth. This scheme was launched in 2015 to provide financial assistance to small and micro enterprises. It offers loans up to 10 lakh rupees to individuals, including youth, to start or expand their businesses. It has been instrumental in promoting entrepreneurship and creating job opportunities in India. Is there anything else you would like to know about this scheme or the amount sanctioned under it?\",\n",
      "        \"generation_info\": {\n",
      "          \"finish_reason\": \"stop\",\n",
      "          \"logprobs\": null\n",
      "        },\n",
      "        \"type\": \"Generation\"\n",
      "      }\n",
      "    ]\n",
      "  ],\n",
      "  \"llm_output\": {\n",
      "    \"token_usage\": {\n",
      "      \"prompt_tokens\": 643,\n",
      "      \"completion_tokens\": 107,\n",
      "      \"total_tokens\": 750\n",
      "    },\n",
      "    \"model_name\": \"gpt-3.5-turbo-instruct\"\n",
      "  },\n",
      "  \"run\": null\n",
      "}\n",
      "\u001b[36;1m\u001b[1;3m[chain/end]\u001b[0m \u001b[1m[chain:ConversationChain] [2.50s] Exiting Chain run with output:\n",
      "\u001b[0m{\n",
      "  \"response\": \" As of March 2021, approximately 28.68 lakh crore rupees have been sanctioned under PM Mudra Yojana for the entrepreneurial aspirations of youth. This scheme was launched in 2015 to provide financial assistance to small and micro enterprises. It offers loans up to 10 lakh rupees to individuals, including youth, to start or expand their businesses. It has been instrumental in promoting entrepreneurship and creating job opportunities in India. Is there anything else you would like to know about this scheme or the amount sanctioned under it?\"\n",
      "}\n"
     ]
    },
    {
     "data": {
      "text/plain": [
       "' As of March 2021, approximately 28.68 lakh crore rupees have been sanctioned under PM Mudra Yojana for the entrepreneurial aspirations of youth. This scheme was launched in 2015 to provide financial assistance to small and micro enterprises. It offers loans up to 10 lakh rupees to individuals, including youth, to start or expand their businesses. It has been instrumental in promoting entrepreneurship and creating job opportunities in India. Is there anything else you would like to know about this scheme or the amount sanctioned under it?'"
      ]
     },
     "execution_count": 46,
     "metadata": {},
     "output_type": "execute_result"
    }
   ],
   "source": [
    "convo.run(\"How Much Loan is sanctioned under PM Mudra Yojana for entrepreneurial aspirations of youths?\")"
   ]
  },
  {
   "cell_type": "code",
   "execution_count": 47,
   "metadata": {},
   "outputs": [
    {
     "name": "stdout",
     "output_type": "stream",
     "text": [
      "Human: When is Interim Budget is passed year 2021?\n",
      "AI:  The Interim Budget for 2021 was passed on February 1, 2021. This is a temporary budget that is passed before the general elections, to keep the government functioning until a new budget is presented by the new government. It is also known as a vote on account and only covers essential expenses for a short period of time. Is there anything else you would like to know about the Interim Budget?\n",
      "Human: How mush Direct Benefit Transfer from the Government using PM-Jan Dhan accounts?\n",
      "AI:  As of March 2021, the total amount transferred through Direct Benefit Transfer from the Government using PM-Jan Dhan accounts is approximately 3.79 lakh crore rupees. This scheme was launched in 2014 by the Indian government to transfer subsidies and other benefits directly to the beneficiaries through their Jan Dhan accounts. It has been successful in reducing corruption and ensuring efficient delivery of government aid. Is there anything else you would like to know about this scheme or the amount transferred through it?\n",
      "Human: How many farmers get direct financial assistance under PM-KISAN SAMMAN Yojana?\n",
      "AI:  As of March 2021, approximately 11.43 crore farmers have received direct financial assistance under the PM-KISAN SAMMAN Yojana. This scheme was launched in 2018 to provide income support to small and marginal farmers by transferring 6000 rupees per year directly to their bank accounts. The amount is given in three installments and has been beneficial for farmers across the country. Is there anything else you would like to know about this scheme or the number of farmers who have received assistance through it?\n",
      "Human: How many yuths are trained under 'The Skill India Mission'?\n",
      "AI:   As of March 2021, approximately 1.13 crore youth have been trained under 'The Skill India Mission'. This initiative was launched in 2015 to provide skill training to the youth of India and enhance their employability. The program offers training in various sectors such as construction, retail, healthcare, and hospitality, among others. It has been successful in improving the skillset of the Indian workforce and promoting job opportunities. Is there anything else you would like to know about this mission or the number of youth trained under it?\n",
      "Human: How Much Loan is sanctioned under PM Mudra Yojana for entrepreneurial aspirations of youths?\n",
      "AI:  As of March 2021, approximately 28.68 lakh crore rupees have been sanctioned under PM Mudra Yojana for the entrepreneurial aspirations of youth. This scheme was launched in 2015 to provide financial assistance to small and micro enterprises. It offers loans up to 10 lakh rupees to individuals, including youth, to start or expand their businesses. It has been instrumental in promoting entrepreneurship and creating job opportunities in India. Is there anything else you would like to know about this scheme or the amount sanctioned under it?\n"
     ]
    }
   ],
   "source": [
    "print(convo.memory.buffer)"
   ]
  }
 ],
 "metadata": {
  "kernelspec": {
   "display_name": ".venv",
   "language": "python",
   "name": "python3"
  },
  "language_info": {
   "codemirror_mode": {
    "name": "ipython",
    "version": 3
   },
   "file_extension": ".py",
   "mimetype": "text/x-python",
   "name": "python",
   "nbconvert_exporter": "python",
   "pygments_lexer": "ipython3",
   "version": "3.12.4"
  }
 },
 "nbformat": 4,
 "nbformat_minor": 2
}
